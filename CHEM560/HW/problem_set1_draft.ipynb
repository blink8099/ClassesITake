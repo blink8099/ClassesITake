{
 "cells": [
  {
   "cell_type": "markdown",
   "metadata": {},
   "source": [
    "This notebook is some draft to be copied over to Azure workspace"
   ]
  },
  {
   "cell_type": "markdown",
   "metadata": {},
   "source": [
    "1. Native gates"
   ]
  },
  {
   "cell_type": "markdown",
   "metadata": {},
   "source": [
    "(a) In class we introduced the native gates on the IonQ simulator. What are the native gates for another (non trapped ion) cloud-based quantum simulator (describe the gates and name the simulator)? If you have some understanding of the differences in the hardware, explain why the native gates are different."
   ]
  },
  {
   "cell_type": "markdown",
   "metadata": {},
   "source": [
    "Another cloud-based quantum simulator is Xanadu Quantum Cloud (https://xanadu.ai/cloud), which consists of cloud-based access to three fully programmable photonic quantum computers. The simulator can be described as the 'Gaussian boson sampler'. The silicon chips consists of 3 modules: the squeezers (input to the computer), the interferometer (logical gates), and photon detectors (measurement of the output). The interferometer can transfrom the squeezed states (Xanadu's version of qubits), and it does this via many types of gates, such as displacement, squeezing, rotation, quadratice phase, beamsplitter...etc. More information can be found in this page: https://strawberryfields.ai/photonics/conventions/index.html . "
   ]
  }
 ],
 "metadata": {
  "kernelspec": {
   "display_name": "Python 3",
   "language": "python",
   "name": "python3"
  },
  "language_info": {
   "codemirror_mode": {
    "name": "ipython",
    "version": 3
   },
   "file_extension": ".py",
   "mimetype": "text/x-python",
   "name": "python",
   "nbconvert_exporter": "python",
   "pygments_lexer": "ipython3",
   "version": "3.7.4"
  }
 },
 "nbformat": 4,
 "nbformat_minor": 2
}
