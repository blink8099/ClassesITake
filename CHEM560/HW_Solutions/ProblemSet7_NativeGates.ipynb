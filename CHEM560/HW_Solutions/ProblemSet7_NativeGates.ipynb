{
 "cells": [
  {
   "cell_type": "code",
   "execution_count": 1,
   "id": "17d0d2b0",
   "metadata": {},
   "outputs": [],
   "source": [
    "%matplotlib inline\n",
    "\n",
    "import matplotlib\n",
    "import numpy as np\n",
    "import matplotlib.pyplot as plt\n",
    "import sympy\n",
    "from sympy import *\n",
    "import itertools\n",
    "from IPython.display import display\n",
    "init_printing() #allows nice math displays"
   ]
  },
  {
   "cell_type": "markdown",
   "id": "4f68f8ff",
   "metadata": {},
   "source": [
    "In this notebook, I will use the QuantumMatrix class provided in this link: https://github.com/qiskit-community/qiskit-community-tutorials/blob/master/terra/qis_adv/Clifford_Group.ipynb. It offers a good way to visualize the matrix and also takes care of the phase and coefficients thus allowing more direct comparison"
   ]
  },
  {
   "cell_type": "code",
   "execution_count": 2,
   "id": "a5f770de",
   "metadata": {},
   "outputs": [],
   "source": [
    "class QuantumMatrix():\n",
    "    def __init__(self, m, coeff = 1):\n",
    "        self.matrix = sympy.Matrix(m)\n",
    "        self.coefficient = coeff\n",
    "        self.canonize()\n",
    "        \n",
    "    def canonize(self):\n",
    "        a = next((x for x in self.matrix if x != 0), None)\n",
    "        if a is not None: #zero vector\n",
    "            for i,j in itertools.product([0,1], [0,1]):\n",
    "                self.matrix[i,j] = sympy.simplify(self.matrix[i,j] / a)\n",
    "        self.coefficient = sympy.simplify(self.coefficient * a) \n",
    "            \n",
    "    def __str__(self):\n",
    "        coeff_string = \"\"\n",
    "        if self.coefficient != 1:\n",
    "            coeff_string = \"{} * \".format(self.coefficient)\n",
    "        return \"{}[[{}, {}], [{}, {}]]\".format(coeff_string,self.matrix[0], self.matrix[1], self.matrix[2], self.matrix[3])\n",
    "    \n",
    "    def __mul__(self, rhs):\n",
    "        return QuantumMatrix(self.matrix * rhs.matrix, self.coefficient * rhs.coefficient)\n",
    "    \n",
    "    def __add__(self, rhs):\n",
    "        temp_rhs_matrix = sympy.Matrix([[1,0],[0,1]])\n",
    "        for i,j in itertools.product([0,1], [0,1]):\n",
    "                 temp_rhs_matrix[i,j] = sympy.simplify((rhs.matrix[i,j] * self.coefficient) / rhs.coefficient)\n",
    "        return QuantumMatrix(self.matrix + temp_rhs_matrix, self.coefficient * 1/sympy.sqrt(2))\n",
    "    \n",
    "    def __sub__(self, rhs):\n",
    "        return self + QuantumMatrix(rhs.matrix, rhs.coefficient * -1)\n",
    "    \n",
    "    def __eq__(self, rhs):\n",
    "        return (self.matrix == rhs.matrix and self.coefficient == rhs.coefficient)\n",
    "    \n",
    "    def equiv(self, rhs):\n",
    "        return (self.matrix == rhs.matrix)\n",
    "    \n",
    "    def __iter__(self):\n",
    "        for x in self.matrix:\n",
    "             yield x"
   ]
  },
  {
   "cell_type": "markdown",
   "id": "6abe4158",
   "metadata": {},
   "source": [
    "**IonQ Single-Qubit Native Gates**"
   ]
  },
  {
   "cell_type": "code",
   "execution_count": 4,
   "id": "a588302f",
   "metadata": {},
   "outputs": [],
   "source": [
    "GPI = lambda phi : QuantumMatrix( [[0,sympy.exp(-sympy.I * phi)], \n",
    "                                   [sympy.exp(sympy.I * phi),0]])\n",
    "\n",
    "\n",
    "GPI2 = lambda phi : QuantumMatrix( [[1, -sympy.I * sympy.exp(-sympy.I * phi)], \n",
    "                                     [ -sympy.I * sympy.exp(sympy.I * phi),1]], 1/sympy.sqrt(2))\n"
   ]
  },
  {
   "cell_type": "markdown",
   "id": "59247de2",
   "metadata": {},
   "source": [
    "**First, we define S and H gates using IonQ native gates. They will be the basis which we use to construct other Clifford gates** "
   ]
  },
  {
   "cell_type": "markdown",
   "id": "8b8fc2db",
   "metadata": {},
   "source": [
    "Hadamard Gates and S Gate"
   ]
  },
  {
   "cell_type": "code",
   "execution_count": 12,
   "id": "4b43c5ed",
   "metadata": {},
   "outputs": [
    {
     "data": {
      "text/latex": [
       "$\\displaystyle \\left[\\begin{matrix}1 & 1\\\\1 & -1\\end{matrix}\\right]$"
      ],
      "text/plain": [
       "⎡1  1 ⎤\n",
       "⎢     ⎥\n",
       "⎣1  -1⎦"
      ]
     },
     "metadata": {},
     "output_type": "display_data"
    },
    {
     "name": "stdout",
     "output_type": "stream",
     "text": [
      "Coefficient of H: \n"
     ]
    },
    {
     "data": {
      "image/png": "[encoded data removed]",
      "text/latex": [
       "$\\displaystyle - \\frac{\\sqrt{2}}{2}$"
      ],
      "text/plain": [
       "-√2 \n",
       "────\n",
       " 2  "
      ]
     },
     "execution_count": 12,
     "metadata": {},
     "output_type": "execute_result"
    }
   ],
   "source": [
    "H = GPI(sympy.pi) * GPI2(sympy.pi/2)\n",
    "display(sympy.Matrix(H.matrix))\n",
    "print('Coefficient of H: ') \n",
    "H.coefficient"
   ]
  },
  {
   "cell_type": "code",
   "execution_count": 13,
   "id": "108e5de2",
   "metadata": {},
   "outputs": [
    {
     "data": {
      "text/latex": [
       "$\\displaystyle \\left[\\begin{matrix}1 & 0\\\\0 & i\\end{matrix}\\right]$"
      ],
      "text/plain": [
       "⎡1  0⎤\n",
       "⎢    ⎥\n",
       "⎣0  ⅈ⎦"
      ]
     },
     "metadata": {},
     "output_type": "display_data"
    },
    {
     "name": "stdout",
     "output_type": "stream",
     "text": [
      "Coefficient of S: \n"
     ]
    },
    {
     "data": {
      "image/png": "[encoded data removed]",
      "text/latex": [
       "$\\displaystyle \\left(-1\\right)^{\\frac{3}{4}}$"
      ],
      "text/plain": [
       "    3/4\n",
       "(-1)   "
      ]
     },
     "execution_count": 13,
     "metadata": {},
     "output_type": "execute_result"
    }
   ],
   "source": [
    "S =  GPI(sympy.pi/4) * GPI(sympy.pi)\n",
    "display(sympy.Matrix(S.matrix))\n",
    "print('Coefficient of S: ') \n",
    "S.coefficient"
   ]
  },
  {
   "cell_type": "code",
   "execution_count": 14,
   "id": "5c1fdb60",
   "metadata": {},
   "outputs": [
    {
     "data": {
      "text/latex": [
       "$\\displaystyle \\left[\\begin{matrix}1 & 0\\\\0 & - i\\end{matrix}\\right]$"
      ],
      "text/plain": [
       "⎡1  0 ⎤\n",
       "⎢     ⎥\n",
       "⎣0  -ⅈ⎦"
      ]
     },
     "metadata": {},
     "output_type": "display_data"
    },
    {
     "name": "stdout",
     "output_type": "stream",
     "text": [
      "Coefficient of Sdg: \n"
     ]
    },
    {
     "data": {
      "image/png": "[encoded data removed]",
      "text/latex": [
       "$\\displaystyle - \\sqrt[4]{-1}$"
      ],
      "text/plain": [
       " 4 ____\n",
       "-╲╱ -1 "
      ]
     },
     "execution_count": 14,
     "metadata": {},
     "output_type": "execute_result"
    }
   ],
   "source": [
    "Sdg = GPI(-sympy.pi/4) * GPI(sympy.pi)\n",
    "display(sympy.Matrix(Sdg.matrix))\n",
    "print('Coefficient of Sdg: ') \n",
    "Sdg.coefficient"
   ]
  },
  {
   "cell_type": "markdown",
   "id": "818f9e5c",
   "metadata": {},
   "source": [
    "Pauli Groups"
   ]
  },
  {
   "cell_type": "code",
   "execution_count": 15,
   "id": "974fba4b",
   "metadata": {
    "scrolled": true
   },
   "outputs": [
    {
     "data": {
      "text/latex": [
       "$\\displaystyle \\left[\\begin{matrix}0 & 1\\\\1 & 0\\end{matrix}\\right]$"
      ],
      "text/plain": [
       "⎡0  1⎤\n",
       "⎢    ⎥\n",
       "⎣1  0⎦"
      ]
     },
     "metadata": {},
     "output_type": "display_data"
    },
    {
     "name": "stdout",
     "output_type": "stream",
     "text": [
      "Coefficient of X: \n"
     ]
    },
    {
     "data": {
      "image/png": "[encoded data removed]",
      "text/latex": [
       "$\\displaystyle -1$"
      ],
      "text/plain": [
       "-1"
      ]
     },
     "execution_count": 15,
     "metadata": {},
     "output_type": "execute_result"
    }
   ],
   "source": [
    "X =  GPI(sympy.pi)\n",
    "display(sympy.Matrix(X.matrix))\n",
    "print('Coefficient of Z: ') \n",
    "Z.coefficientprint('Coefficient of Z: ') \n",
    "Z.coefficient"
   ]
  },
  {
   "cell_type": "code",
   "execution_count": 17,
   "id": "f9bd21d9",
   "metadata": {},
   "outputs": [
    {
     "data": {
      "text/latex": [
       "$\\displaystyle \\left[\\begin{matrix}0 & 1\\\\-1 & 0\\end{matrix}\\right]$"
      ],
      "text/plain": [
       "⎡0   1⎤\n",
       "⎢     ⎥\n",
       "⎣-1  0⎦"
      ]
     },
     "metadata": {},
     "output_type": "display_data"
    },
    {
     "name": "stdout",
     "output_type": "stream",
     "text": [
      "Coefficient of Y: \n"
     ]
    },
    {
     "data": {
      "image/png": "[encoded data removed]",
      "text/latex": [
       "$\\displaystyle - i$"
      ],
      "text/plain": [
       "-ⅈ"
      ]
     },
     "execution_count": 17,
     "metadata": {},
     "output_type": "execute_result"
    }
   ],
   "source": [
    "Y =  GPI(sympy.pi/2)\n",
    "display(sympy.Matrix(Y.matrix))\n",
    "print('Coefficient of Y: ') \n",
    "Y.coefficient"
   ]
  },
  {
   "cell_type": "code",
   "execution_count": 19,
   "id": "6fc89fb1",
   "metadata": {},
   "outputs": [
    {
     "data": {
      "text/latex": [
       "$\\displaystyle \\left[\\begin{matrix}1 & 0\\\\0 & -1\\end{matrix}\\right]$"
      ],
      "text/plain": [
       "⎡1  0 ⎤\n",
       "⎢     ⎥\n",
       "⎣0  -1⎦"
      ]
     },
     "metadata": {},
     "output_type": "display_data"
    },
    {
     "name": "stdout",
     "output_type": "stream",
     "text": [
      "Coefficient of Z: \n"
     ]
    },
    {
     "data": {
      "image/png": "[encoded data removed]",
      "text/latex": [
       "$\\displaystyle - i$"
      ],
      "text/plain": [
       "-ⅈ"
      ]
     },
     "execution_count": 19,
     "metadata": {},
     "output_type": "execute_result"
    }
   ],
   "source": [
    "Z =  S * S\n",
    "display(sympy.Matrix(Z.matrix))\n",
    "print('Coefficient of Z: ') \n",
    "Z.coefficient"
   ]
  },
  {
   "cell_type": "code",
   "execution_count": 21,
   "id": "612d14ee",
   "metadata": {},
   "outputs": [
    {
     "data": {
      "text/latex": [
       "$\\displaystyle \\left[\\begin{matrix}1 & 0\\\\0 & 1\\end{matrix}\\right]$"
      ],
      "text/plain": [
       "⎡1  0⎤\n",
       "⎢    ⎥\n",
       "⎣0  1⎦"
      ]
     },
     "metadata": {},
     "output_type": "display_data"
    },
    {
     "name": "stdout",
     "output_type": "stream",
     "text": [
      "Coefficient of I: \n"
     ]
    },
    {
     "data": {
      "image/png": "[encoded data removed]",
      "text/latex": [
       "$\\displaystyle 1$"
      ],
      "text/plain": [
       "1"
      ]
     },
     "execution_count": 21,
     "metadata": {},
     "output_type": "execute_result"
    }
   ],
   "source": [
    "I =  S * Sdg\n",
    "display(sympy.Matrix(I.matrix))\n",
    "print('Coefficient of I: ') \n",
    "I.coefficient"
   ]
  },
  {
   "cell_type": "markdown",
   "id": "af1c6408",
   "metadata": {},
   "source": [
    "The Axis Swap Group"
   ]
  },
  {
   "cell_type": "code",
   "execution_count": 22,
   "id": "0bbe8c2c",
   "metadata": {},
   "outputs": [
    {
     "data": {
      "text/latex": [
       "$\\displaystyle \\left[\\begin{matrix}1 & 1\\\\- i & i\\end{matrix}\\right]$"
      ],
      "text/plain": [
       "⎡1   1⎤\n",
       "⎢     ⎥\n",
       "⎣-ⅈ  ⅈ⎦"
      ]
     },
     "metadata": {},
     "output_type": "display_data"
    },
    {
     "name": "stdout",
     "output_type": "stream",
     "text": [
      "Coefficient of V: \n"
     ]
    },
    {
     "data": {
      "image/png": "[encoded data removed]",
      "text/latex": [
       "$\\displaystyle \\frac{\\sqrt[4]{-1} \\sqrt{2}}{2}$"
      ],
      "text/plain": [
       "4 ____   \n",
       "╲╱ -1 ⋅√2\n",
       "─────────\n",
       "    2    "
      ]
     },
     "execution_count": 22,
     "metadata": {},
     "output_type": "execute_result"
    }
   ],
   "source": [
    "# V = Sdg H\n",
    "V =  GPI(-sympy.pi/4) * GPI(sympy.pi) * GPI(sympy.pi) * GPI2(sympy.pi/2)\n",
    "display(sympy.Matrix(V.matrix))\n",
    "print('Coefficient of V: ') \n",
    "V.coefficient"
   ]
  },
  {
   "cell_type": "code",
   "execution_count": 23,
   "id": "64389007",
   "metadata": {},
   "outputs": [
    {
     "data": {
      "text/latex": [
       "$\\displaystyle \\left[\\begin{matrix}1 & i\\\\1 & - i\\end{matrix}\\right]$"
      ],
      "text/plain": [
       "⎡1  ⅈ ⎤\n",
       "⎢     ⎥\n",
       "⎣1  -ⅈ⎦"
      ]
     },
     "metadata": {},
     "output_type": "display_data"
    },
    {
     "name": "stdout",
     "output_type": "stream",
     "text": [
      "Coefficient of W: \n"
     ]
    },
    {
     "data": {
      "image/png": "[encoded data removed]",
      "text/latex": [
       "$\\displaystyle \\left(-1\\right)^{\\frac{3}{4}}$"
      ],
      "text/plain": [
       "    3/4\n",
       "(-1)   "
      ]
     },
     "execution_count": 23,
     "metadata": {},
     "output_type": "execute_result"
    }
   ],
   "source": [
    "# W = H S\n",
    "W =  GPI(sympy.pi) * GPI2(sympy.pi/2) * GPI(sympy.pi/4) * GPI(sympy.pi)\n",
    "display(sympy.Matrix(W.matrix))\n",
    "print('Coefficient of W: ') \n",
    "S.coefficient"
   ]
  },
  {
   "cell_type": "markdown",
   "id": "c5b2d361",
   "metadata": {},
   "source": [
    "**24 Elements in Clifford Group**"
   ]
  },
  {
   "cell_type": "markdown",
   "id": "4e83eb23",
   "metadata": {},
   "source": [
    "Since the Clifford group is defined as the group of unitaries that normalize the Pauli group, we can write the one-qubit elements as $C_1 = AB$, where $A \\in \\{ I, V, W, H, HV, HW\\}$ and $ B \\in \\{ I, X, Y, Z\\}$ "
   ]
  },
  {
   "cell_type": "code",
   "execution_count": 24,
   "id": "b1f59f83",
   "metadata": {},
   "outputs": [],
   "source": [
    "Clifford_Gates = {}"
   ]
  },
  {
   "cell_type": "code",
   "execution_count": 32,
   "id": "7cc143fd",
   "metadata": {},
   "outputs": [],
   "source": [
    "# X   =  GPI(sympy.pi)\n",
    "# Y   =  GPI(sympy.pi/2)\n",
    "# Z   =  GZ(sympy.pi/2)\n",
    "# I   =  GZ(0)\n",
    "# H   =  GPI(sympy.pi) * GPI2(sympy.pi/2)\n",
    "# S   =  GPI(sympy.pi/4) * GPI(sympy.pi)\n",
    "# Sdg =  GPI(-sympy.pi/4) * GPI(sympy.pi)\n",
    "# V   =  GPI(-sympy.pi/4) * GPI(sympy.pi) * GPI(sympy.pi) * GPI2(sympy.pi/2)\n",
    "# W   =  GPI(sympy.pi) * GPI2(sympy.pi/2) * GPI(sympy.pi/4) * GPI(sympy.pi)"
   ]
  },
  {
   "cell_type": "code",
   "execution_count": 33,
   "id": "4b378010",
   "metadata": {},
   "outputs": [
    {
     "name": "stdout",
     "output_type": "stream",
     "text": [
      "I=\n"
     ]
    },
    {
     "data": {
      "text/latex": [
       "$\\displaystyle \\left[\\begin{matrix}1 & 0\\\\0 & 1\\end{matrix}\\right]$"
      ],
      "text/plain": [
       "⎡1  0⎤\n",
       "⎢    ⎥\n",
       "⎣0  1⎦"
      ]
     },
     "metadata": {},
     "output_type": "display_data"
    },
    {
     "name": "stdout",
     "output_type": "stream",
     "text": [
      "X=\n"
     ]
    },
    {
     "data": {
      "text/latex": [
       "$\\displaystyle \\left[\\begin{matrix}0 & 1\\\\1 & 0\\end{matrix}\\right]$"
      ],
      "text/plain": [
       "⎡0  1⎤\n",
       "⎢    ⎥\n",
       "⎣1  0⎦"
      ]
     },
     "metadata": {},
     "output_type": "display_data"
    },
    {
     "name": "stdout",
     "output_type": "stream",
     "text": [
      "Y=\n"
     ]
    },
    {
     "data": {
      "text/latex": [
       "$\\displaystyle \\left[\\begin{matrix}0 & 1\\\\-1 & 0\\end{matrix}\\right]$"
      ],
      "text/plain": [
       "⎡0   1⎤\n",
       "⎢     ⎥\n",
       "⎣-1  0⎦"
      ]
     },
     "metadata": {},
     "output_type": "display_data"
    },
    {
     "name": "stdout",
     "output_type": "stream",
     "text": [
      "Z=\n"
     ]
    },
    {
     "data": {
      "text/latex": [
       "$\\displaystyle \\left[\\begin{matrix}1 & 0\\\\0 & -1\\end{matrix}\\right]$"
      ],
      "text/plain": [
       "⎡1  0 ⎤\n",
       "⎢     ⎥\n",
       "⎣0  -1⎦"
      ]
     },
     "metadata": {},
     "output_type": "display_data"
    }
   ],
   "source": [
    "# When A = I\n",
    "\n",
    "Clifford_Gates['I'] = I\n",
    "print (\"I=\")\n",
    "display(sympy.Matrix(I.matrix))\n",
    "\n",
    "Clifford_Gates['X'] = X\n",
    "print (\"X=\")\n",
    "display(sympy.Matrix(X.matrix))\n",
    "\n",
    "Clifford_Gates['Y'] = Y\n",
    "print (\"Y=\")\n",
    "display(sympy.Matrix(Y.matrix))\n",
    "\n",
    "Clifford_Gates['Z'] = Z\n",
    "print (\"Z=\")\n",
    "display(sympy.Matrix(Z.matrix))"
   ]
  },
  {
   "cell_type": "code",
   "execution_count": 34,
   "id": "103b1151",
   "metadata": {},
   "outputs": [
    {
     "name": "stdout",
     "output_type": "stream",
     "text": [
      "V=\n"
     ]
    },
    {
     "data": {
      "text/latex": [
       "$\\displaystyle \\left[\\begin{matrix}1 & 1\\\\- i & i\\end{matrix}\\right]$"
      ],
      "text/plain": [
       "⎡1   1⎤\n",
       "⎢     ⎥\n",
       "⎣-ⅈ  ⅈ⎦"
      ]
     },
     "metadata": {},
     "output_type": "display_data"
    },
    {
     "name": "stdout",
     "output_type": "stream",
     "text": [
      "VX=\n"
     ]
    },
    {
     "data": {
      "text/latex": [
       "$\\displaystyle \\left[\\begin{matrix}1 & 1\\\\i & - i\\end{matrix}\\right]$"
      ],
      "text/plain": [
       "⎡1  1 ⎤\n",
       "⎢     ⎥\n",
       "⎣ⅈ  -ⅈ⎦"
      ]
     },
     "metadata": {},
     "output_type": "display_data"
    },
    {
     "name": "stdout",
     "output_type": "stream",
     "text": [
      "VY=\n"
     ]
    },
    {
     "data": {
      "text/latex": [
       "$\\displaystyle \\left[\\begin{matrix}1 & -1\\\\i & i\\end{matrix}\\right]$"
      ],
      "text/plain": [
       "⎡1  -1⎤\n",
       "⎢     ⎥\n",
       "⎣ⅈ  ⅈ ⎦"
      ]
     },
     "metadata": {},
     "output_type": "display_data"
    },
    {
     "name": "stdout",
     "output_type": "stream",
     "text": [
      "VZ=\n"
     ]
    },
    {
     "data": {
      "text/latex": [
       "$\\displaystyle \\left[\\begin{matrix}1 & -1\\\\- i & - i\\end{matrix}\\right]$"
      ],
      "text/plain": [
       "⎡1   -1⎤\n",
       "⎢      ⎥\n",
       "⎣-ⅈ  -ⅈ⎦"
      ]
     },
     "metadata": {},
     "output_type": "display_data"
    }
   ],
   "source": [
    "# When A = V\n",
    "\n",
    "# For simplicity, I will directly use V and XYZ gates, but the transformation to H ans S gates are below:\n",
    "# V = H * S * H * S\n",
    "# X = H * S * S * H\n",
    "# Y = S * X * Sdg\n",
    "# Z = S * S\n",
    "\n",
    "Clifford_Gates['V'] = V\n",
    "print (\"V=\")\n",
    "display(sympy.Matrix(V.matrix))\n",
    "\n",
    "VX = V * X\n",
    "Clifford_Gates['VX'] = VX\n",
    "print (\"VX=\")\n",
    "display(sympy.Matrix(VX.matrix))\n",
    "\n",
    "VY = V * Y\n",
    "Clifford_Gates['VY'] = VY\n",
    "print (\"VY=\")\n",
    "display(sympy.Matrix(VY.matrix))\n",
    "\n",
    "VZ = V * Z\n",
    "Clifford_Gates['VZ'] = VZ\n",
    "print (\"VZ=\")\n",
    "display(sympy.Matrix(VZ.matrix))"
   ]
  },
  {
   "cell_type": "code",
   "execution_count": 35,
   "id": "d930dc41",
   "metadata": {},
   "outputs": [
    {
     "name": "stdout",
     "output_type": "stream",
     "text": [
      "W=\n"
     ]
    },
    {
     "data": {
      "text/latex": [
       "$\\displaystyle \\left[\\begin{matrix}1 & i\\\\1 & - i\\end{matrix}\\right]$"
      ],
      "text/plain": [
       "⎡1  ⅈ ⎤\n",
       "⎢     ⎥\n",
       "⎣1  -ⅈ⎦"
      ]
     },
     "metadata": {},
     "output_type": "display_data"
    },
    {
     "name": "stdout",
     "output_type": "stream",
     "text": [
      "WX=\n"
     ]
    },
    {
     "data": {
      "text/latex": [
       "$\\displaystyle \\left[\\begin{matrix}1 & - i\\\\-1 & - i\\end{matrix}\\right]$"
      ],
      "text/plain": [
       "⎡1   -ⅈ⎤\n",
       "⎢      ⎥\n",
       "⎣-1  -ⅈ⎦"
      ]
     },
     "metadata": {},
     "output_type": "display_data"
    },
    {
     "name": "stdout",
     "output_type": "stream",
     "text": [
      "WY=\n"
     ]
    },
    {
     "data": {
      "text/latex": [
       "$\\displaystyle \\left[\\begin{matrix}1 & i\\\\-1 & i\\end{matrix}\\right]$"
      ],
      "text/plain": [
       "⎡1   ⅈ⎤\n",
       "⎢     ⎥\n",
       "⎣-1  ⅈ⎦"
      ]
     },
     "metadata": {},
     "output_type": "display_data"
    },
    {
     "name": "stdout",
     "output_type": "stream",
     "text": [
      "WZ=\n"
     ]
    },
    {
     "data": {
      "text/latex": [
       "$\\displaystyle \\left[\\begin{matrix}1 & - i\\\\1 & i\\end{matrix}\\right]$"
      ],
      "text/plain": [
       "⎡1  -ⅈ⎤\n",
       "⎢     ⎥\n",
       "⎣1  ⅈ ⎦"
      ]
     },
     "metadata": {},
     "output_type": "display_data"
    }
   ],
   "source": [
    "# When A = W\n",
    "\n",
    "# For simplicity, I will directly use W and XYZ gates, but the transformation to H ans S gates are below:\n",
    "# W = S * Z * H * S * Z * H\n",
    "# X = H * S * S * H\n",
    "# Y = S * X * Sdg\n",
    "# Z = S * S\n",
    "\n",
    "Clifford_Gates['W'] = W\n",
    "print (\"W=\")\n",
    "display(sympy.Matrix(W.matrix))\n",
    "\n",
    "WX = W * X\n",
    "Clifford_Gates['WX'] = WX\n",
    "print (\"WX=\")\n",
    "display(sympy.Matrix(WX.matrix))\n",
    "\n",
    "WY = W * Y\n",
    "Clifford_Gates['WY'] = WY\n",
    "print (\"WY=\")\n",
    "display(sympy.Matrix(WY.matrix))\n",
    "\n",
    "WZ = W * Z\n",
    "Clifford_Gates['WZ'] = WZ\n",
    "print (\"WZ=\")\n",
    "display(sympy.Matrix(WZ.matrix))"
   ]
  },
  {
   "cell_type": "code",
   "execution_count": 36,
   "id": "7b87247b",
   "metadata": {},
   "outputs": [
    {
     "name": "stdout",
     "output_type": "stream",
     "text": [
      "H=\n"
     ]
    },
    {
     "data": {
      "text/latex": [
       "$\\displaystyle \\left[\\begin{matrix}1 & 1\\\\1 & -1\\end{matrix}\\right]$"
      ],
      "text/plain": [
       "⎡1  1 ⎤\n",
       "⎢     ⎥\n",
       "⎣1  -1⎦"
      ]
     },
     "metadata": {},
     "output_type": "display_data"
    },
    {
     "name": "stdout",
     "output_type": "stream",
     "text": [
      "HX=\n"
     ]
    },
    {
     "data": {
      "text/latex": [
       "$\\displaystyle \\left[\\begin{matrix}1 & 1\\\\-1 & 1\\end{matrix}\\right]$"
      ],
      "text/plain": [
       "⎡1   1⎤\n",
       "⎢     ⎥\n",
       "⎣-1  1⎦"
      ]
     },
     "metadata": {},
     "output_type": "display_data"
    },
    {
     "name": "stdout",
     "output_type": "stream",
     "text": [
      "HY=\n"
     ]
    },
    {
     "data": {
      "text/latex": [
       "$\\displaystyle \\left[\\begin{matrix}1 & -1\\\\-1 & -1\\end{matrix}\\right]$"
      ],
      "text/plain": [
       "⎡1   -1⎤\n",
       "⎢      ⎥\n",
       "⎣-1  -1⎦"
      ]
     },
     "metadata": {},
     "output_type": "display_data"
    },
    {
     "name": "stdout",
     "output_type": "stream",
     "text": [
      "HZ=\n"
     ]
    },
    {
     "data": {
      "text/latex": [
       "$\\displaystyle \\left[\\begin{matrix}1 & -1\\\\1 & 1\\end{matrix}\\right]$"
      ],
      "text/plain": [
       "⎡1  -1⎤\n",
       "⎢     ⎥\n",
       "⎣1  1 ⎦"
      ]
     },
     "metadata": {},
     "output_type": "display_data"
    }
   ],
   "source": [
    "# When A = H\n",
    "\n",
    "# For simplicity, I will directly use \\ XYZ gates, but the transformation to H ans S gates are below:\n",
    "# X = H * S * S * H\n",
    "# Y = S * X * Sdg\n",
    "# Z = S * S\n",
    "\n",
    "Clifford_Gates['H'] = H\n",
    "print (\"H=\")\n",
    "display(sympy.Matrix(H.matrix))\n",
    "\n",
    "HX = H * X\n",
    "Clifford_Gates['HX'] = HX\n",
    "print (\"HX=\")\n",
    "display(sympy.Matrix(HX.matrix))\n",
    "\n",
    "HY = H * Y\n",
    "Clifford_Gates['HY'] = HY\n",
    "print (\"HY=\")\n",
    "display(sympy.Matrix(HY.matrix))\n",
    "\n",
    "HZ = H * Z\n",
    "Clifford_Gates['HZ'] = HZ\n",
    "print (\"HZ=\")\n",
    "display(sympy.Matrix(HZ.matrix))"
   ]
  },
  {
   "cell_type": "code",
   "execution_count": 37,
   "id": "16d5395a",
   "metadata": {},
   "outputs": [
    {
     "data": {
      "text/plain": [
       "{'I': <__main__.QuantumMatrix at 0x7fbab88fd970>,\n",
       " 'X': <__main__.QuantumMatrix at 0x7fbab884d460>,\n",
       " 'Y': <__main__.QuantumMatrix at 0x7fbab8899b20>,\n",
       " 'Z': <__main__.QuantumMatrix at 0x7fbaa8f77280>,\n",
       " 'V': <__main__.QuantumMatrix at 0x7fbab8899460>,\n",
       " 'VX': <__main__.QuantumMatrix at 0x7fbab8944c10>,\n",
       " 'VY': <__main__.QuantumMatrix at 0x7fbaa8f776a0>,\n",
       " 'VZ': <__main__.QuantumMatrix at 0x7fbab8944ee0>,\n",
       " 'W': <__main__.QuantumMatrix at 0x7fbaa8f11310>,\n",
       " 'WX': <__main__.QuantumMatrix at 0x7fbab8a8ac10>,\n",
       " 'WY': <__main__.QuantumMatrix at 0x7fbab8bf84f0>,\n",
       " 'WZ': <__main__.QuantumMatrix at 0x7fbac8ccd400>,\n",
       " 'H': <__main__.QuantumMatrix at 0x7fbab890d580>,\n",
       " 'HX': <__main__.QuantumMatrix at 0x7fbab8944a60>,\n",
       " 'HY': <__main__.QuantumMatrix at 0x7fbab8b13d30>,\n",
       " 'HZ': <__main__.QuantumMatrix at 0x7fbab8a8a370>,\n",
       " 'HV': <__main__.QuantumMatrix at 0x7fbaa8f77760>,\n",
       " 'HVX': <__main__.QuantumMatrix at 0x7fbaa8f79df0>,\n",
       " 'HVY': <__main__.QuantumMatrix at 0x7fbab8a8a580>,\n",
       " 'HVZ': <__main__.QuantumMatrix at 0x7fbab8a8aac0>,\n",
       " 'HW': <__main__.QuantumMatrix at 0x7fbab884d6a0>,\n",
       " 'HWX': <__main__.QuantumMatrix at 0x7fbab88f1f10>,\n",
       " 'HWY': <__main__.QuantumMatrix at 0x7fbaa8f11580>,\n",
       " 'HWZ': <__main__.QuantumMatrix at 0x7fbab8944910>}"
      ]
     },
     "execution_count": 37,
     "metadata": {},
     "output_type": "execute_result"
    }
   ],
   "source": [
    "Clifford_Gates"
   ]
  },
  {
   "cell_type": "code",
   "execution_count": 40,
   "id": "c5a07d85",
   "metadata": {},
   "outputs": [
    {
     "data": {
      "image/png": "[encoded data removed]",
      "text/latex": [
       "$\\displaystyle - \\left(-1\\right)^{\\frac{3}{4}}$"
      ],
      "text/plain": [
       "     3/4\n",
       "-(-1)   "
      ]
     },
     "execution_count": 40,
     "metadata": {},
     "output_type": "execute_result"
    }
   ],
   "source": [
    "Clifford_Gates['HWX'].coefficient"
   ]
  },
  {
   "cell_type": "code",
   "execution_count": null,
   "id": "d30d927b",
   "metadata": {},
   "outputs": [],
   "source": []
  },
  {
   "cell_type": "code",
   "execution_count": null,
   "id": "c68600ec",
   "metadata": {},
   "outputs": [],
   "source": []
  },
  {
   "cell_type": "code",
   "execution_count": null,
   "id": "e73f5181",
   "metadata": {},
   "outputs": [],
   "source": []
  },
  {
   "cell_type": "code",
   "execution_count": null,
   "id": "8cddc0dd",
   "metadata": {},
   "outputs": [],
   "source": []
  },
  {
   "cell_type": "code",
   "execution_count": null,
   "id": "9f963847",
   "metadata": {},
   "outputs": [],
   "source": []
  },
  {
   "cell_type": "code",
   "execution_count": null,
   "id": "5f3f0f9f",
   "metadata": {},
   "outputs": [],
   "source": []
  },
  {
   "cell_type": "code",
   "execution_count": null,
   "id": "7c8d39cc",
   "metadata": {},
   "outputs": [],
   "source": []
  },
  {
   "cell_type": "code",
   "execution_count": null,
   "id": "ffd9bf12",
   "metadata": {},
   "outputs": [],
   "source": []
  },
  {
   "cell_type": "code",
   "execution_count": null,
   "id": "c26ae39f",
   "metadata": {},
   "outputs": [],
   "source": []
  },
  {
   "cell_type": "code",
   "execution_count": null,
   "id": "a31e37bc",
   "metadata": {},
   "outputs": [],
   "source": []
  },
  {
   "cell_type": "code",
   "execution_count": null,
   "id": "b2e7cc59",
   "metadata": {},
   "outputs": [],
   "source": []
  },
  {
   "cell_type": "code",
   "execution_count": null,
   "id": "2b96aa3d",
   "metadata": {},
   "outputs": [],
   "source": []
  },
  {
   "cell_type": "code",
   "execution_count": null,
   "id": "9d1b0e31",
   "metadata": {},
   "outputs": [],
   "source": []
  },
  {
   "cell_type": "code",
   "execution_count": null,
   "id": "a6cab252",
   "metadata": {},
   "outputs": [],
   "source": []
  },
  {
   "cell_type": "code",
   "execution_count": null,
   "id": "a97248b1",
   "metadata": {},
   "outputs": [],
   "source": []
  },
  {
   "cell_type": "code",
   "execution_count": null,
   "id": "112019ed",
   "metadata": {},
   "outputs": [],
   "source": []
  },
  {
   "cell_type": "code",
   "execution_count": null,
   "id": "90c2d8cc",
   "metadata": {},
   "outputs": [],
   "source": []
  },
  {
   "cell_type": "code",
   "execution_count": null,
   "id": "e942049e",
   "metadata": {},
   "outputs": [],
   "source": []
  },
  {
   "cell_type": "code",
   "execution_count": null,
   "id": "56dbd8ef",
   "metadata": {},
   "outputs": [],
   "source": []
  },
  {
   "cell_type": "code",
   "execution_count": null,
   "id": "18a233fc",
   "metadata": {},
   "outputs": [],
   "source": []
  },
  {
   "cell_type": "code",
   "execution_count": null,
   "id": "ee72ef43",
   "metadata": {},
   "outputs": [],
   "source": []
  },
  {
   "cell_type": "code",
   "execution_count": null,
   "id": "70c4fcce",
   "metadata": {},
   "outputs": [],
   "source": []
  },
  {
   "cell_type": "code",
   "execution_count": 30,
   "id": "6612300e",
   "metadata": {},
   "outputs": [
    {
     "name": "stdout",
     "output_type": "stream",
     "text": [
      "HV=\n"
     ]
    },
    {
     "data": {
      "text/latex": [
       "$\\displaystyle \\left[\\begin{matrix}1 & i\\\\i & 1\\end{matrix}\\right]$"
      ],
      "text/plain": [
       "⎡1  ⅈ⎤\n",
       "⎢    ⎥\n",
       "⎣ⅈ  1⎦"
      ]
     },
     "metadata": {},
     "output_type": "display_data"
    },
    {
     "name": "stdout",
     "output_type": "stream",
     "text": [
      "HVX=\n"
     ]
    },
    {
     "data": {
      "text/latex": [
       "$\\displaystyle \\left[\\begin{matrix}1 & - i\\\\- i & 1\\end{matrix}\\right]$"
      ],
      "text/plain": [
       "⎡1   -ⅈ⎤\n",
       "⎢      ⎥\n",
       "⎣-ⅈ  1 ⎦"
      ]
     },
     "metadata": {},
     "output_type": "display_data"
    },
    {
     "name": "stdout",
     "output_type": "stream",
     "text": [
      "HVY=\n"
     ]
    },
    {
     "data": {
      "text/latex": [
       "$\\displaystyle \\left[\\begin{matrix}1 & i\\\\- i & -1\\end{matrix}\\right]$"
      ],
      "text/plain": [
       "⎡1   ⅈ ⎤\n",
       "⎢      ⎥\n",
       "⎣-ⅈ  -1⎦"
      ]
     },
     "metadata": {},
     "output_type": "display_data"
    },
    {
     "name": "stdout",
     "output_type": "stream",
     "text": [
      "HVZ=\n"
     ]
    },
    {
     "data": {
      "text/latex": [
       "$\\displaystyle \\left[\\begin{matrix}1 & - i\\\\i & -1\\end{matrix}\\right]$"
      ],
      "text/plain": [
       "⎡1  -ⅈ⎤\n",
       "⎢     ⎥\n",
       "⎣ⅈ  -1⎦"
      ]
     },
     "metadata": {},
     "output_type": "display_data"
    }
   ],
   "source": [
    "# When A = HV\n",
    "\n",
    "# For simplicity, I will directly use HV and XYZ gates, but the transformation to H ans S gates are below:\n",
    "# W = S * Z * H * S * Z * H\n",
    "# X = H * S * S * H\n",
    "# Y = S * X * Sdg\n",
    "# Z = S * S\n",
    "\n",
    "HV = H * V\n",
    "Clifford_Gates['HV'] = HV\n",
    "print (\"HV=\")\n",
    "display(sympy.Matrix(HV.matrix))\n",
    "\n",
    "HVX = HV * X\n",
    "Clifford_Gates['HVX'] = HVX\n",
    "print (\"HVX=\")\n",
    "display(sympy.Matrix(HVX.matrix))\n",
    "\n",
    "HVY = HV * Y\n",
    "Clifford_Gates['HVY'] = HVY\n",
    "print (\"HVY=\")\n",
    "display(sympy.Matrix(HVY.matrix))\n",
    "\n",
    "HVZ = HV * Z\n",
    "Clifford_Gates['HVZ'] = HVZ\n",
    "print (\"HVZ=\")\n",
    "display(sympy.Matrix(HVZ.matrix))"
   ]
  },
  {
   "cell_type": "code",
   "execution_count": 31,
   "id": "bada1177",
   "metadata": {},
   "outputs": [
    {
     "name": "stdout",
     "output_type": "stream",
     "text": [
      "HW=\n"
     ]
    },
    {
     "data": {
      "text/latex": [
       "$\\displaystyle \\left[\\begin{matrix}1 & 0\\\\0 & i\\end{matrix}\\right]$"
      ],
      "text/plain": [
       "⎡1  0⎤\n",
       "⎢    ⎥\n",
       "⎣0  ⅈ⎦"
      ]
     },
     "metadata": {},
     "output_type": "display_data"
    },
    {
     "name": "stdout",
     "output_type": "stream",
     "text": [
      "HWX=\n"
     ]
    },
    {
     "data": {
      "text/latex": [
       "$\\displaystyle \\left[\\begin{matrix}0 & 1\\\\i & 0\\end{matrix}\\right]$"
      ],
      "text/plain": [
       "⎡0  1⎤\n",
       "⎢    ⎥\n",
       "⎣ⅈ  0⎦"
      ]
     },
     "metadata": {},
     "output_type": "display_data"
    },
    {
     "name": "stdout",
     "output_type": "stream",
     "text": [
      "HWY=\n"
     ]
    },
    {
     "data": {
      "text/latex": [
       "$\\displaystyle \\left[\\begin{matrix}0 & 1\\\\- i & 0\\end{matrix}\\right]$"
      ],
      "text/plain": [
       "⎡0   1⎤\n",
       "⎢     ⎥\n",
       "⎣-ⅈ  0⎦"
      ]
     },
     "metadata": {},
     "output_type": "display_data"
    },
    {
     "name": "stdout",
     "output_type": "stream",
     "text": [
      "HWZ=\n"
     ]
    },
    {
     "data": {
      "text/latex": [
       "$\\displaystyle \\left[\\begin{matrix}1 & 0\\\\0 & - i\\end{matrix}\\right]$"
      ],
      "text/plain": [
       "⎡1  0 ⎤\n",
       "⎢     ⎥\n",
       "⎣0  -ⅈ⎦"
      ]
     },
     "metadata": {},
     "output_type": "display_data"
    }
   ],
   "source": [
    "# When A = HW\n",
    "\n",
    "# For simplicity, I will directly use W and XYZ gates, but the transformation to H ans S gates are below:\n",
    "# HW = H * S * H * S\n",
    "# X = H * S * S * H\n",
    "# Y = S * X * Sdg\n",
    "# Z = S * S\n",
    "\n",
    "HW = H * W\n",
    "Clifford_Gates['HW'] = HW\n",
    "print (\"HW=\")\n",
    "display(sympy.Matrix(HW.matrix))\n",
    "\n",
    "HWX = HW * X\n",
    "Clifford_Gates['HWX'] = HWX\n",
    "print (\"HWX=\")\n",
    "display(sympy.Matrix(HWX.matrix))\n",
    "\n",
    "HWY = HW * Y\n",
    "Clifford_Gates['HWY'] = HWY\n",
    "print (\"HWY=\")\n",
    "display(sympy.Matrix(HWY.matrix))\n",
    "\n",
    "HWZ = HW * Z\n",
    "Clifford_Gates['HWZ'] = HWZ\n",
    "print (\"HWZ=\")\n",
    "display(sympy.Matrix(HWZ.matrix))"
   ]
  },
  {
   "cell_type": "code",
   "execution_count": 27,
   "id": "7a0ba26d",
   "metadata": {},
   "outputs": [
    {
     "name": "stdout",
     "output_type": "stream",
     "text": [
      "I=\n"
     ]
    },
    {
     "data": {
      "text/latex": [
       "$\\displaystyle \\left[\\begin{matrix}1 & 0\\\\0 & 1\\end{matrix}\\right]$"
      ],
      "text/plain": [
       "⎡1  0⎤\n",
       "⎢    ⎥\n",
       "⎣0  1⎦"
      ]
     },
     "metadata": {},
     "output_type": "display_data"
    },
    {
     "name": "stdout",
     "output_type": "stream",
     "text": [
      "X=\n"
     ]
    },
    {
     "data": {
      "text/latex": [
       "$\\displaystyle \\left[\\begin{matrix}0 & 1\\\\1 & 0\\end{matrix}\\right]$"
      ],
      "text/plain": [
       "⎡0  1⎤\n",
       "⎢    ⎥\n",
       "⎣1  0⎦"
      ]
     },
     "metadata": {},
     "output_type": "display_data"
    },
    {
     "name": "stdout",
     "output_type": "stream",
     "text": [
      "Y=\n"
     ]
    },
    {
     "data": {
      "text/latex": [
       "$\\displaystyle \\left[\\begin{matrix}0 & 1\\\\-1 & 0\\end{matrix}\\right]$"
      ],
      "text/plain": [
       "⎡0   1⎤\n",
       "⎢     ⎥\n",
       "⎣-1  0⎦"
      ]
     },
     "metadata": {},
     "output_type": "display_data"
    },
    {
     "name": "stdout",
     "output_type": "stream",
     "text": [
      "Z=\n"
     ]
    },
    {
     "data": {
      "text/latex": [
       "$\\displaystyle \\left[\\begin{matrix}1 & 0\\\\0 & -1\\end{matrix}\\right]$"
      ],
      "text/plain": [
       "⎡1  0 ⎤\n",
       "⎢     ⎥\n",
       "⎣0  -1⎦"
      ]
     },
     "metadata": {},
     "output_type": "display_data"
    }
   ],
   "source": [
    "# When A = I\n",
    "\n",
    "# X   =  GPI(sympy.pi)\n",
    "# Y   =  GPI(sympy.pi/2)\n",
    "# Z   =  GZ(sympy.pi/2)\n",
    "# I   =  GZ(0)\n",
    "# H   =  GPI(sympy.pi) * GPI2(sympy.pi/2)\n",
    "# S   =  GPI(sympy.pi/4) * GPI(sympy.pi)\n",
    "# Sdg =  GPI(-sympy.pi/4) * GPI(sympy.pi)\n",
    "# V   =  GPI(-sympy.pi/4) * GPI(sympy.pi) * GPI(sympy.pi) * GPI2(sympy.pi/2)\n",
    "# W   =  GPI(sympy.pi) * GPI2(sympy.pi/2) * GPI(sympy.pi/4) * GPI(sympy.pi)\n",
    "\n",
    "print (\"I=\")\n",
    "A = GZ(0)\n",
    "display(sympy.Matrix(A.matrix))\n",
    "print (\"X=\")\n",
    "A = GPI(sympy.pi)\n",
    "display(sympy.Matrix(A.matrix))\n",
    "print (\"Y=\")\n",
    "A = GPI(sympy.pi/2)\n",
    "display(sympy.Matrix(A.matrix))\n",
    "print (\"Z=\")\n",
    "A = GZ(sympy.pi/2)\n",
    "display(sympy.Matrix(A.matrix))"
   ]
  },
  {
   "cell_type": "code",
   "execution_count": 28,
   "id": "eac77c89",
   "metadata": {},
   "outputs": [
    {
     "name": "stdout",
     "output_type": "stream",
     "text": [
      "V=\n"
     ]
    },
    {
     "data": {
      "text/latex": [
       "$\\displaystyle \\left[\\begin{matrix}1 & 1\\\\- i & i\\end{matrix}\\right]$"
      ],
      "text/plain": [
       "⎡1   1⎤\n",
       "⎢     ⎥\n",
       "⎣-ⅈ  ⅈ⎦"
      ]
     },
     "metadata": {},
     "output_type": "display_data"
    },
    {
     "name": "stdout",
     "output_type": "stream",
     "text": [
      "VX=\n"
     ]
    },
    {
     "data": {
      "text/latex": [
       "$\\displaystyle \\left[\\begin{matrix}1 & 1\\\\i & - i\\end{matrix}\\right]$"
      ],
      "text/plain": [
       "⎡1  1 ⎤\n",
       "⎢     ⎥\n",
       "⎣ⅈ  -ⅈ⎦"
      ]
     },
     "metadata": {},
     "output_type": "display_data"
    },
    {
     "name": "stdout",
     "output_type": "stream",
     "text": [
      "VY=\n"
     ]
    },
    {
     "data": {
      "text/latex": [
       "$\\displaystyle \\left[\\begin{matrix}1 & -1\\\\i & i\\end{matrix}\\right]$"
      ],
      "text/plain": [
       "⎡1  -1⎤\n",
       "⎢     ⎥\n",
       "⎣ⅈ  ⅈ ⎦"
      ]
     },
     "metadata": {},
     "output_type": "display_data"
    },
    {
     "name": "stdout",
     "output_type": "stream",
     "text": [
      "VZ=\n"
     ]
    },
    {
     "data": {
      "text/latex": [
       "$\\displaystyle \\left[\\begin{matrix}1 & -1\\\\- i & - i\\end{matrix}\\right]$"
      ],
      "text/plain": [
       "⎡1   -1⎤\n",
       "⎢      ⎥\n",
       "⎣-ⅈ  -ⅈ⎦"
      ]
     },
     "metadata": {},
     "output_type": "display_data"
    }
   ],
   "source": [
    "# When A = V\n",
    "\n",
    "# X   =  GPI(sympy.pi)\n",
    "# Y   =  GPI(sympy.pi/2)\n",
    "# Z   =  GZ(sympy.pi/2)\n",
    "# I   =  GZ(0)\n",
    "# H   =  GPI(sympy.pi) * GPI2(sympy.pi/2)\n",
    "# S   =  GPI(sympy.pi/4) * GPI(sympy.pi)\n",
    "# Sdg =  GPI(-sympy.pi/4) * GPI(sympy.pi)\n",
    "# V   =  GPI(-sympy.pi/4) * GPI(sympy.pi) * GPI(sympy.pi) * GPI2(sympy.pi/2)\n",
    "# W   =  GPI(sympy.pi) * GPI2(sympy.pi/2) * GPI(sympy.pi/4) * GPI(sympy.pi)\n",
    "\n",
    "A = GPI(-sympy.pi/4) * GPI(sympy.pi) * GPI(sympy.pi) * GPI2(sympy.pi/2)\n",
    "print (\"V=\")\n",
    "display(sympy.Matrix(V.matrix))\n",
    "A = GPI(-sympy.pi/4) * GPI(sympy.pi) * GPI(sympy.pi) * GPI2(sympy.pi/2) * GPI(sympy.pi)\n",
    "print (\"VX=\")\n",
    "display(sympy.Matrix(A.matrix))\n",
    "A = GPI(-sympy.pi/4) * GPI(sympy.pi) * GPI(sympy.pi) * GPI2(sympy.pi/2) * GPI(sympy.pi/2)\n",
    "print (\"VY=\")\n",
    "display(sympy.Matrix(A.matrix))\n",
    "A = GPI(-sympy.pi/4) * GPI(sympy.pi) * GPI(sympy.pi) * GPI2(sympy.pi/2) * GZ(sympy.pi/2)\n",
    "print (\"VZ=\")\n",
    "display(sympy.Matrix(A.matrix))"
   ]
  },
  {
   "cell_type": "code",
   "execution_count": 29,
   "id": "2c16eb6e",
   "metadata": {},
   "outputs": [
    {
     "name": "stdout",
     "output_type": "stream",
     "text": [
      "W=\n"
     ]
    },
    {
     "data": {
      "text/latex": [
       "$\\displaystyle \\left[\\begin{matrix}1 & i\\\\1 & - i\\end{matrix}\\right]$"
      ],
      "text/plain": [
       "⎡1  ⅈ ⎤\n",
       "⎢     ⎥\n",
       "⎣1  -ⅈ⎦"
      ]
     },
     "metadata": {},
     "output_type": "display_data"
    },
    {
     "name": "stdout",
     "output_type": "stream",
     "text": [
      "WX=\n"
     ]
    },
    {
     "data": {
      "text/latex": [
       "$\\displaystyle \\left[\\begin{matrix}1 & - i\\\\-1 & - i\\end{matrix}\\right]$"
      ],
      "text/plain": [
       "⎡1   -ⅈ⎤\n",
       "⎢      ⎥\n",
       "⎣-1  -ⅈ⎦"
      ]
     },
     "metadata": {},
     "output_type": "display_data"
    },
    {
     "name": "stdout",
     "output_type": "stream",
     "text": [
      "WY=\n"
     ]
    },
    {
     "data": {
      "text/latex": [
       "$\\displaystyle \\left[\\begin{matrix}1 & i\\\\-1 & i\\end{matrix}\\right]$"
      ],
      "text/plain": [
       "⎡1   ⅈ⎤\n",
       "⎢     ⎥\n",
       "⎣-1  ⅈ⎦"
      ]
     },
     "metadata": {},
     "output_type": "display_data"
    },
    {
     "name": "stdout",
     "output_type": "stream",
     "text": [
      "WZ=\n"
     ]
    },
    {
     "data": {
      "text/latex": [
       "$\\displaystyle \\left[\\begin{matrix}1 & - i\\\\1 & i\\end{matrix}\\right]$"
      ],
      "text/plain": [
       "⎡1  -ⅈ⎤\n",
       "⎢     ⎥\n",
       "⎣1  ⅈ ⎦"
      ]
     },
     "metadata": {},
     "output_type": "display_data"
    }
   ],
   "source": [
    "# When A = W\n",
    "\n",
    "# X   =  GPI(sympy.pi)\n",
    "# Y   =  GPI(sympy.pi/2)\n",
    "# Z   =  GZ(sympy.pi/2)\n",
    "# I   =  GZ(0)\n",
    "# H   =  GPI(sympy.pi) * GPI2(sympy.pi/2)\n",
    "# S   =  GPI(sympy.pi/4) * GPI(sympy.pi)\n",
    "# Sdg =  GPI(-sympy.pi/4) * GPI(sympy.pi)\n",
    "# V   =  GPI(-sympy.pi/4) * GPI(sympy.pi) * GPI(sympy.pi) * GPI2(sympy.pi/2)\n",
    "# W   =  GPI(sympy.pi) * GPI2(sympy.pi/2) * GPI(sympy.pi/4) * GPI(sympy.pi)\n",
    "\n",
    "\n",
    "A = GPI(sympy.pi) * GPI2(sympy.pi/2) * GPI(sympy.pi/4) * GPI(sympy.pi)\n",
    "print (\"W=\")\n",
    "display(sympy.Matrix(A.matrix))\n",
    "A = GPI(sympy.pi) * GPI2(sympy.pi/2) * GPI(sympy.pi/4) * GPI(sympy.pi) * GPI(sympy.pi)\n",
    "print (\"WX=\")\n",
    "display(sympy.Matrix(A.matrix))\n",
    "A = GPI(sympy.pi) * GPI2(sympy.pi/2) * GPI(sympy.pi/4) * GPI(sympy.pi) * GPI(sympy.pi/2)\n",
    "print (\"WY=\")\n",
    "display(sympy.Matrix(A.matrix))\n",
    "A = GPI(sympy.pi) * GPI2(sympy.pi/2) * GPI(sympy.pi/4) * GPI(sympy.pi) * GZ(sympy.pi/2)\n",
    "print (\"WZ=\")\n",
    "display(sympy.Matrix(A.matrix))"
   ]
  },
  {
   "cell_type": "code",
   "execution_count": 30,
   "id": "4f73af8a",
   "metadata": {},
   "outputs": [
    {
     "name": "stdout",
     "output_type": "stream",
     "text": [
      "H=\n"
     ]
    },
    {
     "data": {
      "text/latex": [
       "$\\displaystyle \\left[\\begin{matrix}1 & 1\\\\1 & -1\\end{matrix}\\right]$"
      ],
      "text/plain": [
       "⎡1  1 ⎤\n",
       "⎢     ⎥\n",
       "⎣1  -1⎦"
      ]
     },
     "metadata": {},
     "output_type": "display_data"
    },
    {
     "name": "stdout",
     "output_type": "stream",
     "text": [
      "HX=\n"
     ]
    },
    {
     "data": {
      "text/latex": [
       "$\\displaystyle \\left[\\begin{matrix}1 & 1\\\\-1 & 1\\end{matrix}\\right]$"
      ],
      "text/plain": [
       "⎡1   1⎤\n",
       "⎢     ⎥\n",
       "⎣-1  1⎦"
      ]
     },
     "metadata": {},
     "output_type": "display_data"
    },
    {
     "name": "stdout",
     "output_type": "stream",
     "text": [
      "HY=\n"
     ]
    },
    {
     "data": {
      "text/latex": [
       "$\\displaystyle \\left[\\begin{matrix}1 & -1\\\\-1 & -1\\end{matrix}\\right]$"
      ],
      "text/plain": [
       "⎡1   -1⎤\n",
       "⎢      ⎥\n",
       "⎣-1  -1⎦"
      ]
     },
     "metadata": {},
     "output_type": "display_data"
    },
    {
     "name": "stdout",
     "output_type": "stream",
     "text": [
      "HZ=\n"
     ]
    },
    {
     "data": {
      "text/latex": [
       "$\\displaystyle \\left[\\begin{matrix}1 & -1\\\\1 & 1\\end{matrix}\\right]$"
      ],
      "text/plain": [
       "⎡1  -1⎤\n",
       "⎢     ⎥\n",
       "⎣1  1 ⎦"
      ]
     },
     "metadata": {},
     "output_type": "display_data"
    }
   ],
   "source": [
    "# When A = H\n",
    "\n",
    "# X   =  GPI(sympy.pi)\n",
    "# Y   =  GPI(sympy.pi/2)\n",
    "# Z   =  GZ(sympy.pi/2)\n",
    "# I   =  GZ(0)\n",
    "# H   =  GPI(sympy.pi) * GPI2(sympy.pi/2)\n",
    "# S   =  GPI(sympy.pi/4) * GPI(sympy.pi)\n",
    "# Sdg =  GPI(-sympy.pi/4) * GPI(sympy.pi)\n",
    "# V   =  GPI(-sympy.pi/4) * GPI(sympy.pi) * GPI(sympy.pi) * GPI2(sympy.pi/2)\n",
    "# W   =  GPI(sympy.pi) * GPI2(sympy.pi/2) * GPI(sympy.pi/4) * GPI(sympy.pi)\n",
    "\n",
    "A = GPI(sympy.pi) * GPI2(sympy.pi/2)\n",
    "print (\"H=\")\n",
    "display(sympy.Matrix(A.matrix))\n",
    "A = GPI(sympy.pi) * GPI2(sympy.pi/2) * GPI(sympy.pi)\n",
    "print (\"HX=\")\n",
    "display(sympy.Matrix(A.matrix))\n",
    "A = GPI(sympy.pi) * GPI2(sympy.pi/2) * GPI(sympy.pi/2)\n",
    "print (\"HY=\")\n",
    "display(sympy.Matrix(A.matrix))\n",
    "A = GPI(sympy.pi) * GPI2(sympy.pi/2) * GZ(sympy.pi/2)\n",
    "print (\"HZ=\")\n",
    "display(sympy.Matrix(A.matrix))"
   ]
  },
  {
   "cell_type": "code",
   "execution_count": 31,
   "id": "352ff73d",
   "metadata": {},
   "outputs": [
    {
     "name": "stdout",
     "output_type": "stream",
     "text": [
      "HV=\n"
     ]
    },
    {
     "data": {
      "text/latex": [
       "$\\displaystyle \\left[\\begin{matrix}1 & i\\\\i & 1\\end{matrix}\\right]$"
      ],
      "text/plain": [
       "⎡1  ⅈ⎤\n",
       "⎢    ⎥\n",
       "⎣ⅈ  1⎦"
      ]
     },
     "metadata": {},
     "output_type": "display_data"
    },
    {
     "name": "stdout",
     "output_type": "stream",
     "text": [
      "HVX=\n"
     ]
    },
    {
     "data": {
      "text/latex": [
       "$\\displaystyle \\left[\\begin{matrix}1 & - i\\\\- i & 1\\end{matrix}\\right]$"
      ],
      "text/plain": [
       "⎡1   -ⅈ⎤\n",
       "⎢      ⎥\n",
       "⎣-ⅈ  1 ⎦"
      ]
     },
     "metadata": {},
     "output_type": "display_data"
    },
    {
     "name": "stdout",
     "output_type": "stream",
     "text": [
      "HVY=\n"
     ]
    },
    {
     "data": {
      "text/latex": [
       "$\\displaystyle \\left[\\begin{matrix}1 & i\\\\- i & -1\\end{matrix}\\right]$"
      ],
      "text/plain": [
       "⎡1   ⅈ ⎤\n",
       "⎢      ⎥\n",
       "⎣-ⅈ  -1⎦"
      ]
     },
     "metadata": {},
     "output_type": "display_data"
    },
    {
     "name": "stdout",
     "output_type": "stream",
     "text": [
      "HVZ=\n"
     ]
    },
    {
     "data": {
      "text/latex": [
       "$\\displaystyle \\left[\\begin{matrix}1 & - i\\\\i & -1\\end{matrix}\\right]$"
      ],
      "text/plain": [
       "⎡1  -ⅈ⎤\n",
       "⎢     ⎥\n",
       "⎣ⅈ  -1⎦"
      ]
     },
     "metadata": {},
     "output_type": "display_data"
    }
   ],
   "source": [
    "# When A = HV\n",
    "\n",
    "# X   =  GPI(sympy.pi)\n",
    "# Y   =  GPI(sympy.pi/2)\n",
    "# Z   =  GZ(sympy.pi/2)\n",
    "# I   =  GZ(0)\n",
    "# H   =  GPI(sympy.pi) * GPI2(sympy.pi/2)\n",
    "# S   =  GPI(sympy.pi/4) * GPI(sympy.pi)\n",
    "# Sdg =  GPI(-sympy.pi/4) * GPI(sympy.pi)\n",
    "# V   =  GPI(-sympy.pi/4) * GPI(sympy.pi) * GPI(sympy.pi) * GPI2(sympy.pi/2)\n",
    "# W   =  GPI(sympy.pi) * GPI2(sympy.pi/2) * GPI(sympy.pi/4) * GPI(sympy.pi)\n",
    "\n",
    "print (\"HV=\")\n",
    "A = GPI(sympy.pi) * GPI2(sympy.pi/2) * GPI(-sympy.pi/4) * GPI(sympy.pi) * GPI(sympy.pi) * GPI2(sympy.pi/2)\n",
    "display(sympy.Matrix(A.matrix))\n",
    "A = GPI(sympy.pi) * GPI2(sympy.pi/2) * GPI(-sympy.pi/4) * GPI(sympy.pi) * GPI(sympy.pi) * GPI2(sympy.pi/2) * GPI(sympy.pi)\n",
    "print (\"HVX=\")\n",
    "display(sympy.Matrix(A.matrix))\n",
    "A = GPI(sympy.pi) * GPI2(sympy.pi/2) * GPI(-sympy.pi/4) * GPI(sympy.pi) * GPI(sympy.pi) * GPI2(sympy.pi/2) * GPI(sympy.pi/2)\n",
    "print (\"HVY=\")\n",
    "display(sympy.Matrix(A.matrix))\n",
    "A = GPI(sympy.pi) * GPI2(sympy.pi/2) * GPI(-sympy.pi/4) * GPI(sympy.pi) * GPI(sympy.pi) * GPI2(sympy.pi/2) * GZ(sympy.pi/2)\n",
    "print (\"HVZ=\")\n",
    "display(sympy.Matrix(A.matrix))"
   ]
  },
  {
   "cell_type": "code",
   "execution_count": 32,
   "id": "f6dd7ede",
   "metadata": {},
   "outputs": [
    {
     "name": "stdout",
     "output_type": "stream",
     "text": [
      "HW=\n"
     ]
    },
    {
     "data": {
      "text/latex": [
       "$\\displaystyle \\left[\\begin{matrix}1 & 0\\\\0 & i\\end{matrix}\\right]$"
      ],
      "text/plain": [
       "⎡1  0⎤\n",
       "⎢    ⎥\n",
       "⎣0  ⅈ⎦"
      ]
     },
     "metadata": {},
     "output_type": "display_data"
    },
    {
     "name": "stdout",
     "output_type": "stream",
     "text": [
      "HWX=\n"
     ]
    },
    {
     "data": {
      "text/latex": [
       "$\\displaystyle \\left[\\begin{matrix}0 & 1\\\\i & 0\\end{matrix}\\right]$"
      ],
      "text/plain": [
       "⎡0  1⎤\n",
       "⎢    ⎥\n",
       "⎣ⅈ  0⎦"
      ]
     },
     "metadata": {},
     "output_type": "display_data"
    },
    {
     "name": "stdout",
     "output_type": "stream",
     "text": [
      "HWY=\n"
     ]
    },
    {
     "data": {
      "text/latex": [
       "$\\displaystyle \\left[\\begin{matrix}0 & 1\\\\- i & 0\\end{matrix}\\right]$"
      ],
      "text/plain": [
       "⎡0   1⎤\n",
       "⎢     ⎥\n",
       "⎣-ⅈ  0⎦"
      ]
     },
     "metadata": {},
     "output_type": "display_data"
    },
    {
     "name": "stdout",
     "output_type": "stream",
     "text": [
      "HWZ=\n"
     ]
    },
    {
     "data": {
      "text/latex": [
       "$\\displaystyle \\left[\\begin{matrix}1 & 0\\\\0 & - i\\end{matrix}\\right]$"
      ],
      "text/plain": [
       "⎡1  0 ⎤\n",
       "⎢     ⎥\n",
       "⎣0  -ⅈ⎦"
      ]
     },
     "metadata": {},
     "output_type": "display_data"
    }
   ],
   "source": [
    "# When A = HW\n",
    "\n",
    "# X   =  GPI(sympy.pi)\n",
    "# Y   =  GPI(sympy.pi/2)\n",
    "# Z   =  GZ(sympy.pi/2)\n",
    "# I   =  GZ(0)\n",
    "# H   =  GPI(sympy.pi) * GPI2(sympy.pi/2)\n",
    "# S   =  GPI(sympy.pi/4) * GPI(sympy.pi)\n",
    "# Sdg =  GPI(-sympy.pi/4) * GPI(sympy.pi)\n",
    "# V   =  GPI(-sympy.pi/4) * GPI(sympy.pi) * GPI(sympy.pi) * GPI2(sympy.pi/2)\n",
    "# W   =  GPI(sympy.pi) * GPI2(sympy.pi/2) * GPI(sympy.pi/4) * GPI(sympy.pi)\n",
    "\n",
    "print (\"HW=\")\n",
    "A = GPI(sympy.pi) * GPI2(sympy.pi/2) * GPI(sympy.pi) * GPI2(sympy.pi/2) * GPI(sympy.pi/4) * GPI(sympy.pi)\n",
    "display(sympy.Matrix(A.matrix))\n",
    "A = GPI(sympy.pi) * GPI2(sympy.pi/2) * GPI(sympy.pi) * GPI2(sympy.pi/2) * GPI(sympy.pi/4) * GPI(sympy.pi) * GPI(sympy.pi)\n",
    "print (\"HWX=\")\n",
    "display(sympy.Matrix(A.matrix))\n",
    "A = GPI(sympy.pi) * GPI2(sympy.pi/2) * GPI(sympy.pi) * GPI2(sympy.pi/2) * GPI(sympy.pi/4) * GPI(sympy.pi) * GPI(sympy.pi/2)\n",
    "print (\"HWY=\")\n",
    "display(sympy.Matrix(A.matrix))\n",
    "A = GPI(sympy.pi) * GPI2(sympy.pi/2) * GPI(sympy.pi) * GPI2(sympy.pi/2) * GPI(sympy.pi/4) * GPI(sympy.pi) * GZ(sympy.pi/2)\n",
    "print (\"HWZ=\")\n",
    "display(sympy.Matrix(A.matrix))"
   ]
  }
 ],
 "metadata": {
  "kernelspec": {
   "display_name": "Python 3",
   "language": "python",
   "name": "python3"
  },
  "language_info": {
   "codemirror_mode": {
    "name": "ipython",
    "version": 3
   },
   "file_extension": ".py",
   "mimetype": "text/x-python",
   "name": "python",
   "nbconvert_exporter": "python",
   "pygments_lexer": "ipython3",
   "version": "3.8.8"
  }
 },
 "nbformat": 4,
 "nbformat_minor": 5
}
