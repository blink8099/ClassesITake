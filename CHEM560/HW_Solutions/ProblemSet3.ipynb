{
 "cells": [
  {
   "cell_type": "code",
   "execution_count": 1,
   "metadata": {},
   "outputs": [],
   "source": [
    "import numpy as np\n",
    "np.set_printoptions(precision=4,suppress=True)\n",
    "from scipy.linalg import block_diag\n"
   ]
  },
  {
   "cell_type": "code",
   "execution_count": 2,
   "metadata": {},
   "outputs": [],
   "source": [
    "# Pauli matrices\n",
    "I  = np.array([[ 1, 0],\n",
    "               [ 0, 1]])\n",
    "Sx = np.array([[ 0, 1],\n",
    "               [ 1, 0]])\n",
    "Sy = np.array([[ 0,-1j],\n",
    "               [1j, 0]])\n",
    "Sz = np.array([[ 1, 0],\n",
    "               [ 0,-1]])\n",
    "\n",
    "# Hadamard matrix\n",
    "H = (1/np.sqrt(2))*np.array([[ 1, 1],\n",
    "                             [ 1,-1]])\n",
    "\n",
    "# Phase matrix\n",
    "S = np.array([[ 1, 0],\n",
    "              [ 0,1j]])\n",
    "\n",
    "# single qubit basis states |0> and |1>\n",
    "q0 = np.array([[1],\n",
    "               [0]])\n",
    "q1 = np.array([[0],\n",
    "               [1]])\n",
    "\n",
    "# Projection matrices |0><0| and |1><1|\n",
    "P0  = np.dot(q0,q0.conj().T)\n",
    "P1  = np.dot(q1,q1.conj().T)\n",
    "\n",
    "\n",
    "# Rotation matrices as a function of theta, e.g. Rx(theta), etc.\n",
    "Rx = lambda theta : np.array([[    np.cos(theta/2),-1j*np.sin(theta/2)],\n",
    "                              [-1j*np.sin(theta/2),    np.cos(theta/2)]])\n",
    "Ry = lambda theta : np.array([[    np.cos(theta/2),   -np.sin(theta/2)],\n",
    "                              [    np.sin(theta/2),    np.cos(theta/2)]])\n",
    "Rz = lambda theta : np.array([[np.exp(-1j*theta/2),                0.0],\n",
    "                              [                0.0, np.exp(1j*theta/2)]])\n",
    "\n"
   ]
  },
  {
   "cell_type": "code",
   "execution_count": 3,
   "metadata": {},
   "outputs": [],
   "source": [
    "# CNOTij, where i is control qubit and j is target qubit\n",
    "CNOT10 = np.kron(P0,I) + np.kron(P1,Sx) # control -> q1, target -> q0\n",
    "CNOT01 = np.kron(I,P0) + np.kron(Sx,P1) # control -> q0, target -> q1\n",
    "\n",
    "SWAP   = block_diag(1,Sx,1)"
   ]
  },
  {
   "cell_type": "code",
   "execution_count": 4,
   "metadata": {},
   "outputs": [],
   "source": [
    "# See DOI: 10.1103/PhysRevX.6.031007\n",
    "# Here, we use parameters given for H2 at R=0.25A\n",
    "g0 = +2.1868\n",
    "g1 = +0.5449\n",
    "g2 = -1.2870\n",
    "g3 = +0.6719\n",
    "g4 = +0.0798\n",
    "g5 = +0.0798\n",
    "\n",
    "nuclear_repulsion = 0.7055696146*3"
   ]
  },
  {
   "cell_type": "code",
   "execution_count": 5,
   "metadata": {},
   "outputs": [],
   "source": [
    "Hmol = (g0 * np.kron( I, I) + # g0 * I\n",
    "        g1 * np.kron( I,Sz) + # g1 * Z0\n",
    "        g2 * np.kron(Sz, I) + # g2 * Z1\n",
    "        g3 * np.kron(Sz,Sz) + # g3 * Z0Z1\n",
    "        g4 * np.kron(Sy,Sy) + # g4 * Y0Y1\n",
    "        g5 * np.kron(Sx,Sx))  # g5 * X0X1"
   ]
  },
  {
   "cell_type": "code",
   "execution_count": 6,
   "metadata": {},
   "outputs": [
    {
     "name": "stdout",
     "output_type": "stream",
     "text": [
      "[[ 2.1166+0.j  0.    +0.j  0.    +0.j  0.    +0.j]\n",
      " [ 0.    +0.j -0.317 +0.j  0.1596+0.j  0.    +0.j]\n",
      " [ 0.    +0.j  0.1596+0.j  3.3468+0.j  0.    +0.j]\n",
      " [ 0.    +0.j  0.    +0.j  0.    +0.j  3.6008+0.j]]\n"
     ]
    }
   ],
   "source": [
    "print(Hmol)"
   ]
  },
  {
   "cell_type": "code",
   "execution_count": 40,
   "metadata": {},
   "outputs": [
    {
     "name": "stdout",
     "output_type": "stream",
     "text": [
      "Classical diagonalization: +1.7927696 Eh\n",
      "Exact (from G16):          -1.1457417 Eh\n"
     ]
    }
   ],
   "source": [
    "electronic_energy = np.linalg.eigvalsh(Hmol)[0] # take the lowest value\n",
    "print(\"Classical diagonalization: {:+2.8} Eh\".format(electronic_energy + nuclear_repulsion))\n",
    "print(\"Exact (from G16):          {:+2.8} Eh\".format(-1.1457416808))"
   ]
  },
  {
   "cell_type": "code",
   "execution_count": 41,
   "metadata": {},
   "outputs": [
    {
     "name": "stdout",
     "output_type": "stream",
     "text": [
      "[[1.]\n",
      " [0.]\n",
      " [0.]\n",
      " [0.]]\n"
     ]
    }
   ],
   "source": [
    "# initial basis, state is |00>\n",
    "psi0 = np.zeros((4,1))\n",
    "psi0[0] = 1\n",
    "print(psi0)"
   ]
  },
  {
   "cell_type": "code",
   "execution_count": 42,
   "metadata": {},
   "outputs": [
    {
     "name": "stdout",
     "output_type": "stream",
     "text": [
      "[[0.]\n",
      " [1.]\n",
      " [0.]\n",
      " [0.]]\n"
     ]
    }
   ],
   "source": [
    "# put in |01> state with Sx operator on q0\n",
    "psi0 = np.dot(np.kron(I,Sx),psi0)\n",
    "print(psi0)"
   ]
  },
  {
   "cell_type": "code",
   "execution_count": 43,
   "metadata": {},
   "outputs": [],
   "source": [
    "def expected(theta,ansatz,Hmol,psi0):\n",
    "    circuit = ansatz(theta[0])\n",
    "    psi = np.dot(circuit,psi0)\n",
    "    return np.real(np.dot(psi.conj().T,np.dot(Hmol,psi)))[0,0]"
   ]
  },
  {
   "cell_type": "code",
   "execution_count": 44,
   "metadata": {},
   "outputs": [
    {
     "data": {
      "text/plain": [
       "0.0"
      ]
     },
     "execution_count": 44,
     "metadata": {},
     "output_type": "execute_result"
    }
   ],
   "source": [
    "theta\n"
   ]
  },
  {
   "cell_type": "code",
   "execution_count": 45,
   "metadata": {},
   "outputs": [
    {
     "name": "stdout",
     "output_type": "stream",
     "text": [
      "Lazy VQE: \n",
      "  [+] theta:  -0.043452772 deg\n",
      "  [+] energy: +1.7927696 Eh\n"
     ]
    }
   ],
   "source": [
    "from scipy.linalg import expm\n",
    "from scipy.optimize import minimize\n",
    "\n",
    "# our UCC ansatz, not yet represented in terms of quantum gates\n",
    "ansatz = lambda theta: expm(-1j*np.array([theta])*np.kron(Sy,Sx))\n",
    "\n",
    "# initial guess for theta\n",
    "theta  = [0.0]\n",
    "result = minimize(expected,theta,args=(ansatz,Hmol,psi0))\n",
    "theta  = result.x[0]\n",
    "val    = result.fun\n",
    "\n",
    "print(\"Lazy VQE: \")\n",
    "print(\"  [+] theta:  {:+2.8} deg\".format(theta))\n",
    "print(\"  [+] energy: {:+2.8} Eh\".format(val + nuclear_repulsion))"
   ]
  },
  {
   "cell_type": "code",
   "execution_count": 48,
   "metadata": {},
   "outputs": [],
   "source": [
    "ansatz = lambda theta: (np.dot(np.dot(np.kron(-Ry(np.pi/2),Rx(np.pi/2)),\n",
    "                        np.dot(CNOT10, \n",
    "                        np.dot(np.kron(I,Rz(theta)),\n",
    "                               CNOT10))),\n",
    "                               np.kron(Ry(np.pi/2),-Rx(np.pi/2))))\n"
   ]
  },
  {
   "cell_type": "code",
   "execution_count": 49,
   "metadata": {},
   "outputs": [
    {
     "name": "stdout",
     "output_type": "stream",
     "text": [
      "VQE: \n",
      "  [+] theta:  +3.0546895 deg\n",
      "  [+] energy: +1.7927696 Eh\n"
     ]
    }
   ],
   "source": [
    "theta  = [0.0]\n",
    "result = minimize(expected,theta,args=(ansatz,Hmol,psi0))\n",
    "theta  = result.x[0]\n",
    "val    = result.fun\n",
    "\n",
    "print(\"VQE: \")\n",
    "print(\"  [+] theta:  {:+2.8} deg\".format(theta))\n",
    "print(\"  [+] energy: {:+2.8} Eh\".format(val + nuclear_repulsion))"
   ]
  },
  {
   "cell_type": "code",
   "execution_count": 51,
   "metadata": {},
   "outputs": [],
   "source": [
    "def projective_expected(theta,ansatz,psi0):\n",
    "    # this will depend on the hard-coded Hamiltonian + coefficients\n",
    "    circuit = ansatz(theta[0])\n",
    "    psi = np.dot(circuit,psi0)\n",
    "    \n",
    "    # for 2 qubits, assume we can only take Pauli Sz measurements (Sz \\otimes I)\n",
    "    # we just apply the right unitary for the desired Pauli measurement\n",
    "    measureZ = lambda U: np.dot(np.conj(U).T,np.dot(np.kron(Sz,I),U))\n",
    "    \n",
    "    energy = 0.0\n",
    "    \n",
    "    # although the paper indexes the Hamiltonian left-to-right (0-to-1) \n",
    "    # qubit-1 is always the top qubit for us, so the tensor pdt changes\n",
    "    # e.g. compare with the \"exact Hamiltonian\" we explicitly diagonalized\n",
    "    \n",
    "    # <I1 I0>\n",
    "    energy += g0 # it is a constant\n",
    "\n",
    "    # <I1 Sz0>\n",
    "    U = SWAP\n",
    "    energy += g1*np.dot(psi.conj().T,np.dot(measureZ(U),psi))\n",
    "\n",
    "    # <Sz1 I0>\n",
    "    U = np.kron(I,I)\n",
    "    energy += g2*np.dot(psi.conj().T,np.dot(measureZ(U),psi))\n",
    "\n",
    "    # <Sz1 Sz0>\n",
    "    U = CNOT01\n",
    "    energy += g3*np.dot(psi.conj().T,np.dot(measureZ(U),psi))\n",
    "\n",
    "    # <Sx1 Sx0>\n",
    "    U = np.dot(CNOT01,np.kron(H,H))\n",
    "    energy += g4*np.dot(psi.conj().T,np.dot(measureZ(U),psi))\n",
    "\n",
    "    # <Sy1 Sy0>\n",
    "    U = np.dot(CNOT01,np.kron(np.dot(H,S.conj().T),np.dot(H,S.conj().T)))\n",
    "    energy += g5*np.dot(psi.conj().T,np.dot(measureZ(U),psi))\n",
    "\n",
    "    return np.real(energy)[0,0]"
   ]
  },
  {
   "cell_type": "code",
   "execution_count": 52,
   "metadata": {},
   "outputs": [
    {
     "name": "stdout",
     "output_type": "stream",
     "text": [
      "VQE: \n",
      "  [+] theta:  +3.0546895 deg\n",
      "  [+] energy: +1.7927696 Eh\n"
     ]
    }
   ],
   "source": [
    "theta  = [0.0]\n",
    "result = minimize(projective_expected,theta,args=(ansatz,psi0))\n",
    "theta  = result.x[0]\n",
    "val    = result.fun\n",
    "\n",
    "print(\"VQE: \")\n",
    "print(\"  [+] theta:  {:+2.8} deg\".format(theta))\n",
    "print(\"  [+] energy: {:+2.8} Eh\".format(val + nuclear_repulsion))"
   ]
  },
  {
   "cell_type": "code",
   "execution_count": 80,
   "metadata": {},
   "outputs": [],
   "source": [
    "# This function prints more details\n",
    "def projective_expected_detail(theta,ansatz,psi0):\n",
    "    \n",
    "    print('Current VQE Iteration')\n",
    "    # this will depend on the hard-coded Hamiltonian + coefficients\n",
    "    circuit = ansatz(theta[0])\n",
    "    psi = np.dot(circuit,psi0)\n",
    "    \n",
    "    # for 2 qubits, assume we can only take Pauli Sz measurements (Sz \\otimes I)\n",
    "    # we just apply the right unitary for the desired Pauli measurement\n",
    "    measureZ = lambda U: np.dot(np.conj(U).T,np.dot(np.kron(Sz,I),U))\n",
    "    \n",
    "    energy = 0.0\n",
    "    \n",
    "    # although the paper indexes the Hamiltonian left-to-right (0-to-1) \n",
    "    # qubit-1 is always the top qubit for us, so the tensor pdt changes\n",
    "    # e.g. compare with the \"exact Hamiltonian\" we explicitly diagonalized\n",
    "    \n",
    "    # <I1 I0>\n",
    "    energy += g0 # it is a constant\n",
    "\n",
    "    # <I1 Sz0>\n",
    "    U = SWAP\n",
    "    Eg1 = g1*np.dot(psi.conj().T,np.dot(measureZ(U),psi))\n",
    "    energy += Eg1\n",
    "    print('g1 =', Eg1)\n",
    "\n",
    "    # <Sz1 I0>\n",
    "    U = np.kron(I,I)\n",
    "    Eg2 = g2*np.dot(psi.conj().T,np.dot(measureZ(U),psi))\n",
    "    energy += Eg2\n",
    "    print('g2 =', Eg2)\n",
    "    \n",
    "    # <Sz1 Sz0>\n",
    "    U = CNOT01\n",
    "    Eg3 = g3*np.dot(psi.conj().T,np.dot(measureZ(U),psi))\n",
    "    energy += Eg3\n",
    "    print('g3 =', Eg3)\n",
    "    \n",
    "    # <Sx1 Sx0>\n",
    "    U = np.dot(CNOT01,np.kron(H,H))\n",
    "    Eg4 = g4*np.dot(psi.conj().T,np.dot(measureZ(U),psi))\n",
    "    energy += Eg4\n",
    "    print('g4 =', Eg4)\n",
    "    \n",
    "    # <Sy1 Sy0>\n",
    "    U = np.dot(CNOT01,np.kron(np.dot(H,S.conj().T),np.dot(H,S.conj().T)))\n",
    "    Eg5 = g5*np.dot(psi.conj().T,np.dot(measureZ(U),psi))\n",
    "    energy += Eg5\n",
    "    print('g5 =', Eg5)\n",
    "    print(\"\\n\")\n",
    "\n",
    "    return np.real(energy)[0,0]"
   ]
  },
  {
   "cell_type": "code",
   "execution_count": 81,
   "metadata": {
    "scrolled": false
   },
   "outputs": [
    {
     "name": "stdout",
     "output_type": "stream",
     "text": [
      "Current VQE Iteration\n",
      "g1 = [[0.5449+0.j]]\n",
      "g2 = [[1.287-0.j]]\n",
      "g3 = [[-0.6719+0.j]]\n",
      "g4 = [[-0.+0.j]]\n",
      "g5 = [[-0.-0.j]]\n",
      "\n",
      "\n",
      "Current VQE Iteration\n",
      "g1 = [[0.5449+0.j]]\n",
      "g2 = [[1.287-0.j]]\n",
      "g3 = [[-0.6719+0.j]]\n",
      "g4 = [[-0.+0.j]]\n",
      "g5 = [[-0.-0.j]]\n",
      "\n",
      "\n",
      "Current VQE Iteration\n",
      "g1 = [[0.5449+0.j]]\n",
      "g2 = [[1.287-0.j]]\n",
      "g3 = [[-0.6719+0.j]]\n",
      "g4 = [[-0.+0.j]]\n",
      "g5 = [[-0.-0.j]]\n",
      "\n",
      "\n",
      "Current VQE Iteration\n",
      "g1 = [[0.538+0.j]]\n",
      "g2 = [[1.2706-0.j]]\n",
      "g3 = [[-0.6719+0.j]]\n",
      "g4 = [[-0.0127+0.j]]\n",
      "g5 = [[-0.0127+0.j]]\n",
      "\n",
      "\n",
      "Current VQE Iteration\n",
      "g1 = [[0.538+0.j]]\n",
      "g2 = [[1.2706-0.j]]\n",
      "g3 = [[-0.6719+0.j]]\n",
      "g4 = [[-0.0127+0.j]]\n",
      "g5 = [[-0.0127+0.j]]\n",
      "\n",
      "\n",
      "Current VQE Iteration\n",
      "g1 = [[0.538+0.j]]\n",
      "g2 = [[1.2706-0.j]]\n",
      "g3 = [[-0.6719+0.j]]\n",
      "g4 = [[-0.0127+0.j]]\n",
      "g5 = [[-0.0127+0.j]]\n",
      "\n",
      "\n",
      "Current VQE Iteration\n",
      "g1 = [[0.3804+0.j]]\n",
      "g2 = [[0.8985-0.j]]\n",
      "g3 = [[-0.6719+0.j]]\n",
      "g4 = [[-0.0571+0.j]]\n",
      "g5 = [[-0.0571+0.j]]\n",
      "\n",
      "\n",
      "Current VQE Iteration\n",
      "g1 = [[0.3804+0.j]]\n",
      "g2 = [[0.8985-0.j]]\n",
      "g3 = [[-0.6719+0.j]]\n",
      "g4 = [[-0.0571+0.j]]\n",
      "g5 = [[-0.0571+0.j]]\n",
      "\n",
      "\n",
      "Current VQE Iteration\n",
      "g1 = [[0.3804+0.j]]\n",
      "g2 = [[0.8985-0.j]]\n",
      "g3 = [[-0.6719+0.j]]\n",
      "g4 = [[-0.0571+0.j]]\n",
      "g5 = [[-0.0571+0.j]]\n",
      "\n",
      "\n",
      "Current VQE Iteration\n",
      "g1 = [[-0.5329+0.j]]\n",
      "g2 = [[-1.2587+0.j]]\n",
      "g3 = [[-0.6719+0.j]]\n",
      "g4 = [[0.0166+0.j]]\n",
      "g5 = [[0.0166+0.j]]\n",
      "\n",
      "\n",
      "Current VQE Iteration\n",
      "g1 = [[-0.5329+0.j]]\n",
      "g2 = [[-1.2587+0.j]]\n",
      "g3 = [[-0.6719+0.j]]\n",
      "g4 = [[0.0166+0.j]]\n",
      "g5 = [[0.0166+0.j]]\n",
      "\n",
      "\n",
      "Current VQE Iteration\n",
      "g1 = [[-0.5329+0.j]]\n",
      "g2 = [[-1.2587+0.j]]\n",
      "g3 = [[-0.6719+0.j]]\n",
      "g4 = [[0.0166+0.j]]\n",
      "g5 = [[0.0166+0.j]]\n",
      "\n",
      "\n",
      "Current VQE Iteration\n",
      "g1 = [[-0.4806+0.j]]\n",
      "g2 = [[-1.1352+0.j]]\n",
      "g3 = [[-0.6719+0.j]]\n",
      "g4 = [[-0.0376+0.j]]\n",
      "g5 = [[-0.0376+0.j]]\n",
      "\n",
      "\n",
      "Current VQE Iteration\n",
      "g1 = [[-0.4806+0.j]]\n",
      "g2 = [[-1.1352+0.j]]\n",
      "g3 = [[-0.6719+0.j]]\n",
      "g4 = [[-0.0376+0.j]]\n",
      "g5 = [[-0.0376+0.j]]\n",
      "\n",
      "\n",
      "Current VQE Iteration\n",
      "g1 = [[-0.4806+0.j]]\n",
      "g2 = [[-1.1352+0.j]]\n",
      "g3 = [[-0.6719+0.j]]\n",
      "g4 = [[-0.0376+0.j]]\n",
      "g5 = [[-0.0376+0.j]]\n",
      "\n",
      "\n",
      "Current VQE Iteration\n",
      "g1 = [[-0.5429+0.j]]\n",
      "g2 = [[-1.2823+0.j]]\n",
      "g3 = [[-0.6719+0.j]]\n",
      "g4 = [[-0.0068+0.j]]\n",
      "g5 = [[-0.0068+0.j]]\n",
      "\n",
      "\n",
      "Current VQE Iteration\n",
      "g1 = [[-0.5429+0.j]]\n",
      "g2 = [[-1.2823+0.j]]\n",
      "g3 = [[-0.6719+0.j]]\n",
      "g4 = [[-0.0068+0.j]]\n",
      "g5 = [[-0.0068+0.j]]\n",
      "\n",
      "\n",
      "Current VQE Iteration\n",
      "g1 = [[-0.5429+0.j]]\n",
      "g2 = [[-1.2823+0.j]]\n",
      "g3 = [[-0.6719+0.j]]\n",
      "g4 = [[-0.0068+0.j]]\n",
      "g5 = [[-0.0068+0.j]]\n",
      "\n",
      "\n",
      "Current VQE Iteration\n",
      "g1 = [[-0.5408+0.j]]\n",
      "g2 = [[-1.2773+0.j]]\n",
      "g3 = [[-0.6719+0.j]]\n",
      "g4 = [[-0.0098+0.j]]\n",
      "g5 = [[-0.0098+0.j]]\n",
      "\n",
      "\n",
      "Current VQE Iteration\n",
      "g1 = [[-0.5408+0.j]]\n",
      "g2 = [[-1.2773+0.j]]\n",
      "g3 = [[-0.6719+0.j]]\n",
      "g4 = [[-0.0098+0.j]]\n",
      "g5 = [[-0.0098+0.j]]\n",
      "\n",
      "\n",
      "Current VQE Iteration\n",
      "g1 = [[-0.5408+0.j]]\n",
      "g2 = [[-1.2773+0.j]]\n",
      "g3 = [[-0.6719+0.j]]\n",
      "g4 = [[-0.0098+0.j]]\n",
      "g5 = [[-0.0098+0.j]]\n",
      "\n",
      "\n",
      "Current VQE Iteration\n",
      "g1 = [[-0.5428+0.j]]\n",
      "g2 = [[-1.2821+0.j]]\n",
      "g3 = [[-0.6719+0.j]]\n",
      "g4 = [[-0.0069+0.j]]\n",
      "g5 = [[-0.0069-0.j]]\n",
      "\n",
      "\n",
      "Current VQE Iteration\n",
      "g1 = [[-0.5428+0.j]]\n",
      "g2 = [[-1.2821+0.j]]\n",
      "g3 = [[-0.6719+0.j]]\n",
      "g4 = [[-0.0069+0.j]]\n",
      "g5 = [[-0.0069-0.j]]\n",
      "\n",
      "\n",
      "Current VQE Iteration\n",
      "g1 = [[-0.5428+0.j]]\n",
      "g2 = [[-1.2821+0.j]]\n",
      "g3 = [[-0.6719+0.j]]\n",
      "g4 = [[-0.0069+0.j]]\n",
      "g5 = [[-0.0069+0.j]]\n",
      "\n",
      "\n",
      "VQE: \n",
      "  [+] theta:  +3.0546895 deg\n",
      "  [+] energy: +1.7927696 Eh\n"
     ]
    }
   ],
   "source": [
    "theta  = [0.0]\n",
    "\n",
    "result = minimize(projective_expected_detail,theta,args=(ansatz,psi0))\n",
    "theta  = result.x[0]\n",
    "val    = result.fun\n",
    "\n",
    "\n",
    "print(\"VQE: \")\n",
    "print(\"  [+] theta:  {:+2.8} deg\".format(theta))\n",
    "print(\"  [+] energy: {:+2.8} Eh\".format(val + nuclear_repulsion))"
   ]
  },
  {
   "cell_type": "code",
   "execution_count": null,
   "metadata": {},
   "outputs": [],
   "source": []
  }
 ],
 "metadata": {
  "kernelspec": {
   "display_name": "Python 3",
   "language": "python",
   "name": "python3"
  },
  "language_info": {
   "codemirror_mode": {
    "name": "ipython",
    "version": 3
   },
   "file_extension": ".py",
   "mimetype": "text/x-python",
   "name": "python",
   "nbconvert_exporter": "python",
   "pygments_lexer": "ipython3",
   "version": "3.7.4"
  }
 },
 "nbformat": 4,
 "nbformat_minor": 5
}
