{
 "cells": [
  {
   "cell_type": "code",
   "execution_count": 1,
   "id": "5f81774e",
   "metadata": {},
   "outputs": [],
   "source": [
    "import numpy as np\n",
    "np.set_printoptions(precision=4,suppress=True)\n",
    "\n"
   ]
  },
  {
   "cell_type": "code",
   "execution_count": 2,
   "id": "0f9b1617",
   "metadata": {},
   "outputs": [],
   "source": [
    "# Pauli matrices\n",
    "I  = np.array([[ 1, 0],\n",
    "               [ 0, 1]])\n",
    "Sx = np.array([[ 0, 1],\n",
    "               [ 1, 0]])\n",
    "Sy = np.array([[ 0,-1j],\n",
    "               [1j, 0]])\n",
    "Sz = np.array([[ 1, 0],\n",
    "               [ 0,-1]])\n",
    "\n",
    "# Hadamard matrix\n",
    "H = (1/np.sqrt(2))*np.array([[ 1, 1],\n",
    "                             [ 1,-1]])\n",
    "\n",
    "# Phase matrix\n",
    "S = np.array([[ 1, 0],\n",
    "              [ 0,1j]])\n",
    "\n",
    "# single qubit basis states |0> and |1>\n",
    "q0 = np.array([[1],\n",
    "               [0]])\n",
    "q1 = np.array([[0],\n",
    "               [1]])\n",
    "\n",
    "# Projection matrices |0><0| and |1><1|\n",
    "P0  = np.dot(q0,q0.conj().T)\n",
    "P1  = np.dot(q1,q1.conj().T)\n",
    "\n",
    "\n",
    "# Rotation matrices as a function of theta, e.g. Rx(theta), etc.\n",
    "Rx = lambda theta : np.array([[    np.cos(theta/2),-1j*np.sin(theta/2)],\n",
    "                              [-1j*np.sin(theta/2),    np.cos(theta/2)]])\n",
    "Ry = lambda theta : np.array([[    np.cos(theta/2),   -np.sin(theta/2)],\n",
    "                              [    np.sin(theta/2),    np.cos(theta/2)]])\n",
    "Rz = lambda theta : np.array([[np.exp(-1j*theta/2),                0.0],\n",
    "                              [                0.0, np.exp(1j*theta/2)]])\n",
    "\n"
   ]
  },
  {
   "cell_type": "code",
   "execution_count": 5,
   "id": "beca6264",
   "metadata": {},
   "outputs": [
    {
     "data": {
      "text/plain": [
       "array([[0.7071+0.j    , 0.    -0.7071j],\n",
       "       [0.    -0.7071j, 0.7071+0.j    ]])"
      ]
     },
     "execution_count": 5,
     "metadata": {},
     "output_type": "execute_result"
    }
   ],
   "source": [
    "Rx(np.pi/2)"
   ]
  },
  {
   "cell_type": "code",
   "execution_count": null,
   "id": "5c868d1c",
   "metadata": {},
   "outputs": [],
   "source": []
  }
 ],
 "metadata": {
  "kernelspec": {
   "display_name": "Python 3",
   "language": "python",
   "name": "python3"
  },
  "language_info": {
   "codemirror_mode": {
    "name": "ipython",
    "version": 3
   },
   "file_extension": ".py",
   "mimetype": "text/x-python",
   "name": "python",
   "nbconvert_exporter": "python",
   "pygments_lexer": "ipython3",
   "version": "3.8.8"
  }
 },
 "nbformat": 4,
 "nbformat_minor": 5
}
