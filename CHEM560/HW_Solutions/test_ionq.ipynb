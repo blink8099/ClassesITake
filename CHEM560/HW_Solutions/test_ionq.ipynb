{
 "cells": [
  {
   "cell_type": "code",
   "execution_count": 10,
   "id": "78957a35",
   "metadata": {},
   "outputs": [],
   "source": [
    "from qiskit_ionq import IonQProvider, GPIGate, GPI2Gate, MSGate\n",
    "from qiskit.providers.jobstatus import JobStatus"
   ]
  },
  {
   "cell_type": "code",
   "execution_count": 3,
   "id": "c54d956a",
   "metadata": {},
   "outputs": [],
   "source": [
    "provider = IonQProvider(\"4sqiVkjcPWcvSxBpFmolrqPuGtMoGh7S\")\n",
    "ionq_simulator_backend = provider.get_backend(\"ionq_simulator\")\n",
    "qpu_backend = provider.get_backend(\"ionq_qpu\")\n"
   ]
  },
  {
   "cell_type": "code",
   "execution_count": 5,
   "id": "8b490449",
   "metadata": {},
   "outputs": [
    {
     "name": "stdout",
     "output_type": "stream",
     "text": [
      "{'00': 5054, '11': 4946}\n"
     ]
    }
   ],
   "source": [
    "from qiskit import QuantumCircuit\n",
    "\n",
    "# Create a basic Bell State circuit:\n",
    "qc = QuantumCircuit(2, 2)\n",
    "qc.h(0)\n",
    "qc.cx(0, 1)\n",
    "qc.measure([0, 1], [0, 1])\n",
    "\n",
    "# Run the circuit on IonQ's platform:\n",
    "job = ionq_simulator_backend.run(qc, shots=10000) \n",
    "\n",
    "# Print the counts\n",
    "print(job.get_counts())"
   ]
  },
  {
   "cell_type": "code",
   "execution_count": 6,
   "id": "bc3db8e1",
   "metadata": {},
   "outputs": [
    {
     "name": "stdout",
     "output_type": "stream",
     "text": [
      "{'00': 0.5, '11': 0.5}\n"
     ]
    }
   ],
   "source": [
    "# The simulator provides the ideal probabilities from the circuit, and the provider\n",
    "# creates “counts” by randomly sampling from these probabilities. The raw (“true”)\n",
    "# probabilities are also accessible by calling get_probabilities():\n",
    "print(job.get_probabilities())"
   ]
  },
  {
   "cell_type": "code",
   "execution_count": 7,
   "id": "db27d784",
   "metadata": {},
   "outputs": [],
   "source": [
    "ionq_simulator_backend_qis = provider.get_backend(\"ionq_simulator\", gateset = \"qis\")"
   ]
  },
  {
   "cell_type": "code",
   "execution_count": 8,
   "id": "a8990f22",
   "metadata": {},
   "outputs": [],
   "source": [
    "ionq_simulator_backend_nat = provider.get_backend(\"ionq_simulator\", gateset = \"native\")"
   ]
  },
  {
   "cell_type": "code",
   "execution_count": null,
   "id": "4eb16585",
   "metadata": {},
   "outputs": [],
   "source": [
    "provider = IonQProvider(os.environ.get(\"4sqiVkjcPWcvSxBpFmolrqPuGtMoGh7S\"))\n",
    "ionq = provider.get_backend(\"ionq_simulator\", gateset=\"native\")\n",
    "\n",
    "\n"
   ]
  },
  {
   "cell_type": "code",
   "execution_count": 17,
   "id": "e0829902",
   "metadata": {},
   "outputs": [],
   "source": [
    "qc = QuantumCircuit(3, name=f\"gate-native\")\n",
    "qc.append(GPIGate(0.1), [0])\n",
    "qc.append(GPI2Gate(0.2), [1])\n",
    "qc.append(MSGate(0.2, 0.3), [1, 2])\n",
    "job = ionq_simulator_backend_nat.run(qc, shots=1000)"
   ]
  },
  {
   "cell_type": "code",
   "execution_count": 18,
   "id": "8bc73658",
   "metadata": {},
   "outputs": [
    {
     "data": {
      "text/html": [
       "<pre style=\"word-wrap: normal;white-space: pre;background: #fff0;line-height: 1.1;font-family: &quot;Courier New&quot;,Courier,monospace\">      ┌──────────┐                \n",
       "q_0: ─┤ Gpi(0.1) ├────────────────\n",
       "     ┌┴──────────┤┌──────────────┐\n",
       "q_1: ┤ Gpi2(0.2) ├┤0             ├\n",
       "     └───────────┘│  Ms(0.2,0.3) │\n",
       "q_2: ─────────────┤1             ├\n",
       "                  └──────────────┘</pre>"
      ],
      "text/plain": [
       "      ┌──────────┐                \n",
       "q_0: ─┤ Gpi(0.1) ├────────────────\n",
       "     ┌┴──────────┤┌──────────────┐\n",
       "q_1: ┤ Gpi2(0.2) ├┤0             ├\n",
       "     └───────────┘│  Ms(0.2,0.3) │\n",
       "q_2: ─────────────┤1             ├\n",
       "                  └──────────────┘"
      ]
     },
     "execution_count": 18,
     "metadata": {},
     "output_type": "execute_result"
    }
   ],
   "source": [
    "qc.draw()"
   ]
  },
  {
   "cell_type": "code",
   "execution_count": 19,
   "id": "52c72b6b",
   "metadata": {},
   "outputs": [
    {
     "name": "stdout",
     "output_type": "stream",
     "text": [
      "{'1': 256, '11': 249, '101': 251, '111': 244}\n",
      "{'1': 0.25, '11': 0.25, '101': 0.25, '111': 0.25}\n"
     ]
    }
   ],
   "source": [
    "# Print the counts\n",
    "print(job.get_counts())\n",
    "print(job.get_probabilities())"
   ]
  },
  {
   "cell_type": "code",
   "execution_count": 20,
   "id": "b4fdf7ea",
   "metadata": {},
   "outputs": [
    {
     "name": "stdout",
     "output_type": "stream",
     "text": [
      "{'00': 4905, '11': 5095}\n"
     ]
    }
   ],
   "source": [
    "# Create a basic Bell State circuit:\n",
    "qc = QuantumCircuit(2, 2, name=f\"gate-qis\")\n",
    "qc.h(0)\n",
    "qc.cx(0, 1)\n",
    "qc.measure([0, 1], [0, 1])\n",
    "\n",
    "# Run the circuit on IonQ's platform:\n",
    "job = ionq_simulator_backend_qis.run(qc, shots=10000) \n",
    "\n",
    "# Print the counts\n",
    "print(job.get_counts())"
   ]
  },
  {
   "cell_type": "code",
   "execution_count": null,
   "id": "d09550e3",
   "metadata": {},
   "outputs": [],
   "source": []
  }
 ],
 "metadata": {
  "kernelspec": {
   "display_name": "Python 3 (ipykernel)",
   "language": "python",
   "name": "python3"
  },
  "language_info": {
   "codemirror_mode": {
    "name": "ipython",
    "version": 3
   },
   "file_extension": ".py",
   "mimetype": "text/x-python",
   "name": "python",
   "nbconvert_exporter": "python",
   "pygments_lexer": "ipython3",
   "version": "3.10.3"
  }
 },
 "nbformat": 4,
 "nbformat_minor": 5
}
