{
 "cells": [
  {
   "cell_type": "code",
   "execution_count": 1,
   "id": "c6fc39e9",
   "metadata": {},
   "outputs": [],
   "source": [
    "import numpy as np\n",
    "np.set_printoptions(precision=4,suppress=True)\n",
    "from IPython.display import display\n",
    "init_printing() #allows nice math displays"
   ]
  },
  {
   "cell_type": "code",
   "execution_count": 3,
   "id": "f80733a2",
   "metadata": {},
   "outputs": [],
   "source": [
    "# Phase matrix\n",
    "S = np.array([[ 1, 0],\n",
    "              [ 0,1j]])\n",
    "\n",
    "Sdg = np.array([[ 1, 0],\n",
    "              [ 0,-1j]])\n",
    "\n",
    "# Hadamard matrix\n",
    "H = (1/np.sqrt(2))*np.array([[ 1, 1],\n",
    "                             [ 1,-1]])"
   ]
  },
  {
   "cell_type": "markdown",
   "id": "feb25575",
   "metadata": {},
   "source": [
    "Pauli Groups"
   ]
  },
  {
   "cell_type": "code",
   "execution_count": 10,
   "id": "e41d992b",
   "metadata": {},
   "outputs": [
    {
     "data": {
      "text/plain": [
       "array([[-0.+0.j,  1.+0.j],\n",
       "       [ 1.+0.j, -0.+0.j]])"
      ]
     },
     "metadata": {},
     "output_type": "display_data"
    }
   ],
   "source": [
    "X  = np.dot(H,(np.dot(S,np.dot(S,H))))\n",
    "display(X)"
   ]
  },
  {
   "cell_type": "code",
   "execution_count": 11,
   "id": "fc055cd4",
   "metadata": {},
   "outputs": [
    {
     "data": {
      "text/plain": [
       "array([[-0.+0.j,  0.-1.j],\n",
       "       [ 0.+1.j, -0.+0.j]])"
      ]
     },
     "metadata": {},
     "output_type": "display_data"
    }
   ],
   "source": [
    "Y  = np.dot(S,np.dot(H,(np.dot(S,np.dot(S,np.dot(H,Sdg))))))\n",
    "display(Y)"
   ]
  },
  {
   "cell_type": "code",
   "execution_count": null,
   "id": "9b580dea",
   "metadata": {},
   "outputs": [],
   "source": []
  }
 ],
 "metadata": {
  "kernelspec": {
   "display_name": "Python 3 (ipykernel)",
   "language": "python",
   "name": "python3"
  },
  "language_info": {
   "codemirror_mode": {
    "name": "ipython",
    "version": 3
   },
   "file_extension": ".py",
   "mimetype": "text/x-python",
   "name": "python",
   "nbconvert_exporter": "python",
   "pygments_lexer": "ipython3",
   "version": "3.10.3"
  }
 },
 "nbformat": 4,
 "nbformat_minor": 5
}
