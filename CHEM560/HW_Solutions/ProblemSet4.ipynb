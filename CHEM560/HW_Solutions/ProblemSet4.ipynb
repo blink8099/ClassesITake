{
  "cells": [
    {
      "cell_type": "code",
      "source": [
        "!pip install qiskit\n",
        "!pip install qiskit_experiments\n",
        "!pip install azure-quantum[qiskit]==0.23.201228b1"
      ],
      "outputs": [
        {
          "output_type": "stream",
          "name": "stdout",
          "text": "Defaulting to user installation because normal site-packages is not writeable\nCollecting qiskit\n  Downloading qiskit-0.36.0.tar.gz (13 kB)\n  Preparing metadata (setup.py) ... \u001b[?25l-\b \bdone\n\u001b[?25hRequirement already satisfied: qiskit-terra==0.20.0 in /usr/local/lib/python3.7/site-packages (from qiskit) (0.20.0)\nCollecting qiskit-aer==0.10.4\n  Downloading qiskit_aer-0.10.4-cp37-cp37m-manylinux_2_12_x86_64.manylinux2010_x86_64.whl (18.0 MB)\n\u001b[2K     \u001b[90m━━━━━━━━━━━━━━━━━━━━━━━━━━━━━━━━━━━━━━━━\u001b[0m \u001b[32m18.0/18.0 MB\u001b[0m \u001b[31m24.5 MB/s\u001b[0m eta \u001b[36m0:00:00\u001b[0m00:01\u001b[0m00:01\u001b[0m\n\u001b[?25hCollecting qiskit-ibmq-provider==0.19.0\n  Downloading qiskit_ibmq_provider-0.19.0-py3-none-any.whl (240 kB)\n\u001b[2K     \u001b[90m━━━━━━━━━━━━━━━━━━━━━━━━━━━━━━━━━━━━━━━\u001b[0m \u001b[32m240.0/240.0 KB\u001b[0m \u001b[31m8.7 MB/s\u001b[0m eta \u001b[36m0:00:00\u001b[0m\n\u001b[?25hRequirement already satisfied: qiskit-ignis==0.7.0 in /usr/local/lib/python3.7/site-packages (from qiskit) (0.7.0)\nRequirement already satisfied: numpy>=1.16.3 in /usr/local/lib/python3.7/site-packages (from qiskit-aer==0.10.4->qiskit) (1.21.5)\nRequirement already satisfied: scipy>=1.0 in /usr/local/lib/python3.7/site-packages (from qiskit-aer==0.10.4->qiskit) (1.7.3)\nCollecting websockets>=10.0\n  Downloading websockets-10.3-cp37-cp37m-manylinux_2_5_x86_64.manylinux1_x86_64.manylinux_2_12_x86_64.manylinux2010_x86_64.whl (112 kB)\n\u001b[2K     \u001b[90m━━━━━━━━━━━━━━━━━━━━━━━━━━━━━━━━━━━━━━━\u001b[0m \u001b[32m112.1/112.1 KB\u001b[0m \u001b[31m5.1 MB/s\u001b[0m eta \u001b[36m0:00:00\u001b[0m\n\u001b[?25hRequirement already satisfied: websocket-client>=1.0.1 in /usr/local/lib/python3.7/site-packages (from qiskit-ibmq-provider==0.19.0->qiskit) (1.3.2)\nRequirement already satisfied: requests>=2.19 in /usr/local/lib/python3.7/site-packages (from qiskit-ibmq-provider==0.19.0->qiskit) (2.27.1)\nRequirement already satisfied: python-dateutil>=2.8.0 in /usr/local/lib/python3.7/site-packages (from qiskit-ibmq-provider==0.19.0->qiskit) (2.8.2)\nRequirement already satisfied: urllib3>=1.21.1 in /usr/local/lib/python3.7/site-packages (from qiskit-ibmq-provider==0.19.0->qiskit) (1.26.9)\nCollecting requests-ntlm>=1.1.0\n  Downloading requests_ntlm-1.1.0-py2.py3-none-any.whl (5.7 kB)\nRequirement already satisfied: retworkx>=0.8.0 in /usr/local/lib/python3.7/site-packages (from qiskit-ignis==0.7.0->qiskit) (0.11.0)\nRequirement already satisfied: setuptools>=40.1.0 in /usr/local/lib/python3.7/site-packages (from qiskit-ignis==0.7.0->qiskit) (57.5.0)\nRequirement already satisfied: symengine>=0.9 in /usr/local/lib/python3.7/site-packages (from qiskit-terra==0.20.0->qiskit) (0.9.2)\nRequirement already satisfied: sympy>=1.3 in /usr/local/lib/python3.7/site-packages (from qiskit-terra==0.20.0->qiskit) (1.10.1)\nRequirement already satisfied: stevedore>=3.0.0 in /usr/local/lib/python3.7/site-packages (from qiskit-terra==0.20.0->qiskit) (3.5.0)\nRequirement already satisfied: tweedledum<2.0,>=1.1 in /usr/local/lib/python3.7/site-packages (from qiskit-terra==0.20.0->qiskit) (1.1.1)\nRequirement already satisfied: ply>=3.10 in /usr/local/lib/python3.7/site-packages (from qiskit-terra==0.20.0->qiskit) (3.11)\nRequirement already satisfied: dill>=0.3 in /usr/local/lib/python3.7/site-packages (from qiskit-terra==0.20.0->qiskit) (0.3.4)\nRequirement already satisfied: python-constraint>=1.4 in /usr/local/lib/python3.7/site-packages (from qiskit-terra==0.20.0->qiskit) (1.4.0)\nRequirement already satisfied: psutil>=5 in /usr/local/lib/python3.7/site-packages (from qiskit-terra==0.20.0->qiskit) (5.9.0)\nRequirement already satisfied: six>=1.5 in /usr/local/lib/python3.7/site-packages (from python-dateutil>=2.8.0->qiskit-ibmq-provider==0.19.0->qiskit) (1.16.0)\nRequirement already satisfied: charset-normalizer~=2.0.0 in /usr/local/lib/python3.7/site-packages (from requests>=2.19->qiskit-ibmq-provider==0.19.0->qiskit) (2.0.12)\nRequirement already satisfied: idna<4,>=2.5 in /usr/local/lib/python3.7/site-packages (from requests>=2.19->qiskit-ibmq-provider==0.19.0->qiskit) (3.3)\nRequirement already satisfied: certifi>=2017.4.17 in /usr/local/lib/python3.7/site-packages (from requests>=2.19->qiskit-ibmq-provider==0.19.0->qiskit) (2021.10.8)\nRequirement already satisfied: cryptography>=1.3 in /usr/local/lib/python3.7/site-packages (from requests-ntlm>=1.1.0->qiskit-ibmq-provider==0.19.0->qiskit) (36.0.2)\nCollecting ntlm-auth>=1.0.2\n  Downloading ntlm_auth-1.5.0-py2.py3-none-any.whl (29 kB)\nRequirement already satisfied: importlib-metadata>=1.7.0 in /usr/local/lib/python3.7/site-packages (from stevedore>=3.0.0->qiskit-terra==0.20.0->qiskit) (2.1.3)\nRequirement already satisfied: pbr!=2.1.0,>=2.0.0 in /usr/local/lib/python3.7/site-packages (from stevedore>=3.0.0->qiskit-terra==0.20.0->qiskit) (5.8.1)\nRequirement already satisfied: mpmath>=0.19 in /usr/local/lib/python3.7/site-packages (from sympy>=1.3->qiskit-terra==0.20.0->qiskit) (1.2.1)\nRequirement already satisfied: cffi>=1.12 in /usr/local/lib/python3.7/site-packages (from cryptography>=1.3->requests-ntlm>=1.1.0->qiskit-ibmq-provider==0.19.0->qiskit) (1.15.0)\nRequirement already satisfied: zipp>=0.5 in /usr/local/lib/python3.7/site-packages (from importlib-metadata>=1.7.0->stevedore>=3.0.0->qiskit-terra==0.20.0->qiskit) (3.7.0)\nRequirement already satisfied: pycparser in /usr/local/lib/python3.7/site-packages (from cffi>=1.12->cryptography>=1.3->requests-ntlm>=1.1.0->qiskit-ibmq-provider==0.19.0->qiskit) (2.21)\nBuilding wheels for collected packages: qiskit\n  Building wheel for qiskit (setup.py) ... \u001b[?25l-\b \bdone\n\u001b[?25h  Created wheel for qiskit: filename=qiskit-0.36.0-py3-none-any.whl size=11861 sha256=180a5f5737434104ca870181e1debaf0a13b6e32fbb4c0e80ff86e3299c7a160\n  Stored in directory: /home/jovyan/.cache/pip/wheels/c3/25/bc/bb06f0f4587fa7253f761a778580d546f13e031b90fc929bb3\nSuccessfully built qiskit\nInstalling collected packages: websockets, ntlm-auth, requests-ntlm, qiskit-ibmq-provider, qiskit-aer, qiskit\nSuccessfully installed ntlm-auth-1.5.0 qiskit-0.36.0 qiskit-aer-0.10.4 qiskit-ibmq-provider-0.19.0 requests-ntlm-1.1.0 websockets-10.3\nDefaulting to user installation because normal site-packages is not writeable\nCollecting qiskit_experiments\n  Downloading qiskit_experiments-0.2.0-py3-none-any.whl (294 kB)\n\u001b[2K     \u001b[90m━━━━━━━━━━━━━━━━━━━━━━━━━━━━━━━━━━━━━━━\u001b[0m \u001b[32m294.8/294.8 KB\u001b[0m \u001b[31m7.0 MB/s\u001b[0m eta \u001b[36m0:00:00\u001b[0ma \u001b[36m0:00:01\u001b[0m\n\u001b[?25hRequirement already satisfied: matplotlib>=3.4 in /usr/local/lib/python3.7/site-packages (from qiskit_experiments) (3.5.1)\nRequirement already satisfied: qiskit-ibmq-provider>=0.16.0 in ./.local/lib/python3.7/site-packages (from qiskit_experiments) (0.19.0)\nRequirement already satisfied: qiskit-terra>=0.19.0 in /usr/local/lib/python3.7/site-packages (from qiskit_experiments) (0.20.0)\nCollecting uncertainties\n  Downloading uncertainties-3.1.6-py2.py3-none-any.whl (98 kB)\n\u001b[2K     \u001b[90m━━━━━━━━━━━━━━━━━━━━━━━━━━━━━━━━━━━━━━━━\u001b[0m \u001b[32m98.3/98.3 KB\u001b[0m \u001b[31m1.6 MB/s\u001b[0m eta \u001b[36m0:00:00\u001b[0mta \u001b[36m0:00:01\u001b[0m\n\u001b[?25hRequirement already satisfied: scipy>=1.4 in /usr/local/lib/python3.7/site-packages (from qiskit_experiments) (1.7.3)\nRequirement already satisfied: numpy>=1.17 in /usr/local/lib/python3.7/site-packages (from qiskit_experiments) (1.21.5)\nRequirement already satisfied: python-dateutil>=2.7 in /usr/local/lib/python3.7/site-packages (from matplotlib>=3.4->qiskit_experiments) (2.8.2)\nRequirement already satisfied: packaging>=20.0 in /usr/local/lib/python3.7/site-packages (from matplotlib>=3.4->qiskit_experiments) (21.3)\nRequirement already satisfied: cycler>=0.10 in /usr/local/lib/python3.7/site-packages (from matplotlib>=3.4->qiskit_experiments) (0.11.0)\nRequirement already satisfied: pyparsing>=2.2.1 in /usr/local/lib/python3.7/site-packages (from matplotlib>=3.4->qiskit_experiments) (3.0.7)\nRequirement already satisfied: kiwisolver>=1.0.1 in /usr/local/lib/python3.7/site-packages (from matplotlib>=3.4->qiskit_experiments) (1.4.2)\nRequirement already satisfied: fonttools>=4.22.0 in /usr/local/lib/python3.7/site-packages (from matplotlib>=3.4->qiskit_experiments) (4.31.2)\nRequirement already satisfied: pillow>=6.2.0 in /usr/local/lib/python3.7/site-packages (from matplotlib>=3.4->qiskit_experiments) (9.0.1)\nRequirement already satisfied: requests-ntlm>=1.1.0 in ./.local/lib/python3.7/site-packages (from qiskit-ibmq-provider>=0.16.0->qiskit_experiments) (1.1.0)\nRequirement already satisfied: websocket-client>=1.0.1 in /usr/local/lib/python3.7/site-packages (from qiskit-ibmq-provider>=0.16.0->qiskit_experiments) (1.3.2)\nRequirement already satisfied: urllib3>=1.21.1 in /usr/local/lib/python3.7/site-packages (from qiskit-ibmq-provider>=0.16.0->qiskit_experiments) (1.26.9)\nRequirement already satisfied: requests>=2.19 in /usr/local/lib/python3.7/site-packages (from qiskit-ibmq-provider>=0.16.0->qiskit_experiments) (2.27.1)\nRequirement already satisfied: websockets>=10.0 in ./.local/lib/python3.7/site-packages (from qiskit-ibmq-provider>=0.16.0->qiskit_experiments) (10.3)\nRequirement already satisfied: dill>=0.3 in /usr/local/lib/python3.7/site-packages (from qiskit-terra>=0.19.0->qiskit_experiments) (0.3.4)\nRequirement already satisfied: retworkx>=0.11.0 in /usr/local/lib/python3.7/site-packages (from qiskit-terra>=0.19.0->qiskit_experiments) (0.11.0)\nRequirement already satisfied: stevedore>=3.0.0 in /usr/local/lib/python3.7/site-packages (from qiskit-terra>=0.19.0->qiskit_experiments) (3.5.0)\nRequirement already satisfied: ply>=3.10 in /usr/local/lib/python3.7/site-packages (from qiskit-terra>=0.19.0->qiskit_experiments) (3.11)\nRequirement already satisfied: python-constraint>=1.4 in /usr/local/lib/python3.7/site-packages (from qiskit-terra>=0.19.0->qiskit_experiments) (1.4.0)\nRequirement already satisfied: tweedledum<2.0,>=1.1 in /usr/local/lib/python3.7/site-packages (from qiskit-terra>=0.19.0->qiskit_experiments) (1.1.1)\nRequirement already satisfied: symengine>=0.9 in /usr/local/lib/python3.7/site-packages (from qiskit-terra>=0.19.0->qiskit_experiments) (0.9.2)\nRequirement already satisfied: sympy>=1.3 in /usr/local/lib/python3.7/site-packages (from qiskit-terra>=0.19.0->qiskit_experiments) (1.10.1)\nRequirement already satisfied: psutil>=5 in /usr/local/lib/python3.7/site-packages (from qiskit-terra>=0.19.0->qiskit_experiments) (5.9.0)\nCollecting future\n  Downloading future-0.18.2.tar.gz (829 kB)\n\u001b[2K     \u001b[90m━━━━━━━━━━━━━━━━━━━━━━━━━━━━━━━━━━━━━━\u001b[0m \u001b[32m829.2/829.2 KB\u001b[0m \u001b[31m11.0 MB/s\u001b[0m eta \u001b[36m0:00:00\u001b[0m00:01\u001b[0m\n\u001b[?25h  Preparing metadata (setup.py) ... \u001b[?25l-\b \bdone\n\u001b[?25hRequirement already satisfied: typing-extensions in /usr/local/lib/python3.7/site-packages (from kiwisolver>=1.0.1->matplotlib>=3.4->qiskit_experiments) (4.1.1)\nRequirement already satisfied: six>=1.5 in /usr/local/lib/python3.7/site-packages (from python-dateutil>=2.7->matplotlib>=3.4->qiskit_experiments) (1.16.0)\nRequirement already satisfied: certifi>=2017.4.17 in /usr/local/lib/python3.7/site-packages (from requests>=2.19->qiskit-ibmq-provider>=0.16.0->qiskit_experiments) (2021.10.8)\nRequirement already satisfied: idna<4,>=2.5 in /usr/local/lib/python3.7/site-packages (from requests>=2.19->qiskit-ibmq-provider>=0.16.0->qiskit_experiments) (3.3)\nRequirement already satisfied: charset-normalizer~=2.0.0 in /usr/local/lib/python3.7/site-packages (from requests>=2.19->qiskit-ibmq-provider>=0.16.0->qiskit_experiments) (2.0.12)\nRequirement already satisfied: cryptography>=1.3 in /usr/local/lib/python3.7/site-packages (from requests-ntlm>=1.1.0->qiskit-ibmq-provider>=0.16.0->qiskit_experiments) (36.0.2)\nRequirement already satisfied: ntlm-auth>=1.0.2 in ./.local/lib/python3.7/site-packages (from requests-ntlm>=1.1.0->qiskit-ibmq-provider>=0.16.0->qiskit_experiments) (1.5.0)\nRequirement already satisfied: pbr!=2.1.0,>=2.0.0 in /usr/local/lib/python3.7/site-packages (from stevedore>=3.0.0->qiskit-terra>=0.19.0->qiskit_experiments) (5.8.1)\nRequirement already satisfied: importlib-metadata>=1.7.0 in /usr/local/lib/python3.7/site-packages (from stevedore>=3.0.0->qiskit-terra>=0.19.0->qiskit_experiments) (2.1.3)\nRequirement already satisfied: mpmath>=0.19 in /usr/local/lib/python3.7/site-packages (from sympy>=1.3->qiskit-terra>=0.19.0->qiskit_experiments) (1.2.1)\nRequirement already satisfied: cffi>=1.12 in /usr/local/lib/python3.7/site-packages (from cryptography>=1.3->requests-ntlm>=1.1.0->qiskit-ibmq-provider>=0.16.0->qiskit_experiments) (1.15.0)\nRequirement already satisfied: zipp>=0.5 in /usr/local/lib/python3.7/site-packages (from importlib-metadata>=1.7.0->stevedore>=3.0.0->qiskit-terra>=0.19.0->qiskit_experiments) (3.7.0)\nRequirement already satisfied: pycparser in /usr/local/lib/python3.7/site-packages (from cffi>=1.12->cryptography>=1.3->requests-ntlm>=1.1.0->qiskit-ibmq-provider>=0.16.0->qiskit_experiments) (2.21)\nBuilding wheels for collected packages: future\n  Building wheel for future (setup.py) ... \u001b[?25l-\b \b\\\b \b|\b \bdone\n\u001b[?25h  Created wheel for future: filename=future-0.18.2-py3-none-any.whl size=491070 sha256=416f1aa3da0265917dc73b3f5271b31b4adcd3207312399c84a85c182c691e81\n  Stored in directory: /home/jovyan/.cache/pip/wheels/56/b0/fe/4410d17b32f1f0c3cf54cdfb2bc04d7b4b8f4ae377e2229ba0\nSuccessfully built future\nInstalling collected packages: future, uncertainties, qiskit_experiments\n\u001b[33m  WARNING: The scripts futurize and pasteurize are installed in '/home/jovyan/.local/bin' which is not on PATH.\n  Consider adding this directory to PATH or, if you prefer to suppress this warning, use --no-warn-script-location.\u001b[0m\u001b[33m\n\u001b[0mSuccessfully installed future-0.18.2 qiskit_experiments-0.2.0 uncertainties-3.1.6\nDefaulting to user installation because normal site-packages is not writeable\nCollecting azure-quantum[qiskit]==0.23.201228b1\n  Downloading azure_quantum-0.23.201228b1-py3-none-any.whl (159 kB)\n\u001b[2K     \u001b[90m━━━━━━━━━━━━━━━━━━━━━━━━━━━━━━━━━━━━━━━\u001b[0m \u001b[32m160.0/160.0 KB\u001b[0m \u001b[31m3.2 MB/s\u001b[0m eta \u001b[36m0:00:00\u001b[0ma \u001b[36m0:00:01\u001b[0m\n\u001b[?25hRequirement already satisfied: azure-storage-blob>=12.8.1 in /usr/local/lib/python3.7/site-packages (from azure-quantum[qiskit]==0.23.201228b1) (12.10.0)\nRequirement already satisfied: aiofile>=3.7.2 in /usr/local/lib/python3.7/site-packages (from azure-quantum[qiskit]==0.23.201228b1) (3.7.4)\nRequirement already satisfied: protobuf>=3.14.0 in /usr/local/lib/python3.7/site-packages (from azure-quantum[qiskit]==0.23.201228b1) (3.19.4)\nRequirement already satisfied: azure-identity>=1.6.0 in /usr/local/lib/python3.7/site-packages (from azure-quantum[qiskit]==0.23.201228b1) (1.8.0)\nRequirement already satisfied: msrest>=0.6.21 in /usr/local/lib/python3.7/site-packages (from azure-quantum[qiskit]==0.23.201228b1) (0.6.21)\nRequirement already satisfied: azure-core>=1.19.1 in /usr/local/lib/python3.7/site-packages (from azure-quantum[qiskit]==0.23.201228b1) (1.23.0)\nRequirement already satisfied: aiohttp>=3.7.0 in /usr/local/lib/python3.7/site-packages (from azure-quantum[qiskit]==0.23.201228b1) (3.8.1)\nRequirement already satisfied: deprecated>=1.2.12 in /usr/local/lib/python3.7/site-packages (from azure-quantum[qiskit]==0.23.201228b1) (1.2.13)\nRequirement already satisfied: numpy>=1.21.0 in /usr/local/lib/python3.7/site-packages (from azure-quantum[qiskit]==0.23.201228b1) (1.21.5)\nRequirement already satisfied: qiskit-ionq>=0.1.4 in /usr/local/lib/python3.7/site-packages (from azure-quantum[qiskit]==0.23.201228b1) (0.1.4)\nRequirement already satisfied: qiskit-terra>=0.19.1 in /usr/local/lib/python3.7/site-packages (from azure-quantum[qiskit]==0.23.201228b1) (0.20.0)\nRequirement already satisfied: caio~=0.9.0 in /usr/local/lib/python3.7/site-packages (from aiofile>=3.7.2->azure-quantum[qiskit]==0.23.201228b1) (0.9.5)\nRequirement already satisfied: frozenlist>=1.1.1 in /usr/local/lib/python3.7/site-packages (from aiohttp>=3.7.0->azure-quantum[qiskit]==0.23.201228b1) (1.3.0)\nRequirement already satisfied: charset-normalizer<3.0,>=2.0 in /usr/local/lib/python3.7/site-packages (from aiohttp>=3.7.0->azure-quantum[qiskit]==0.23.201228b1) (2.0.12)\nRequirement already satisfied: yarl<2.0,>=1.0 in /usr/local/lib/python3.7/site-packages (from aiohttp>=3.7.0->azure-quantum[qiskit]==0.23.201228b1) (1.7.2)\nRequirement already satisfied: aiosignal>=1.1.2 in /usr/local/lib/python3.7/site-packages (from aiohttp>=3.7.0->azure-quantum[qiskit]==0.23.201228b1) (1.2.0)\nRequirement already satisfied: multidict<7.0,>=4.5 in /usr/local/lib/python3.7/site-packages (from aiohttp>=3.7.0->azure-quantum[qiskit]==0.23.201228b1) (6.0.2)\nRequirement already satisfied: asynctest==0.13.0 in /usr/local/lib/python3.7/site-packages (from aiohttp>=3.7.0->azure-quantum[qiskit]==0.23.201228b1) (0.13.0)\nRequirement already satisfied: async-timeout<5.0,>=4.0.0a3 in /usr/local/lib/python3.7/site-packages (from aiohttp>=3.7.0->azure-quantum[qiskit]==0.23.201228b1) (4.0.2)\nRequirement already satisfied: attrs>=17.3.0 in /usr/local/lib/python3.7/site-packages (from aiohttp>=3.7.0->azure-quantum[qiskit]==0.23.201228b1) (21.4.0)\nRequirement already satisfied: typing-extensions>=3.7.4 in /usr/local/lib/python3.7/site-packages (from aiohttp>=3.7.0->azure-quantum[qiskit]==0.23.201228b1) (4.1.1)\nRequirement already satisfied: six>=1.11.0 in /usr/local/lib/python3.7/site-packages (from azure-core>=1.19.1->azure-quantum[qiskit]==0.23.201228b1) (1.16.0)\nRequirement already satisfied: requests>=2.18.4 in /usr/local/lib/python3.7/site-packages (from azure-core>=1.19.1->azure-quantum[qiskit]==0.23.201228b1) (2.27.1)\nRequirement already satisfied: msal<2.0.0,>=1.12.0 in /usr/local/lib/python3.7/site-packages (from azure-identity>=1.6.0->azure-quantum[qiskit]==0.23.201228b1) (1.17.0)\nRequirement already satisfied: msal-extensions~=0.3.0 in /usr/local/lib/python3.7/site-packages (from azure-identity>=1.6.0->azure-quantum[qiskit]==0.23.201228b1) (0.3.1)\nRequirement already satisfied: cryptography>=2.5 in /usr/local/lib/python3.7/site-packages (from azure-identity>=1.6.0->azure-quantum[qiskit]==0.23.201228b1) (36.0.2)\nRequirement already satisfied: wrapt<2,>=1.10 in /usr/local/lib/python3.7/site-packages (from deprecated>=1.2.12->azure-quantum[qiskit]==0.23.201228b1) (1.14.0)\nRequirement already satisfied: isodate>=0.6.0 in /usr/local/lib/python3.7/site-packages (from msrest>=0.6.21->azure-quantum[qiskit]==0.23.201228b1) (0.6.1)\nRequirement already satisfied: requests-oauthlib>=0.5.0 in /usr/local/lib/python3.7/site-packages (from msrest>=0.6.21->azure-quantum[qiskit]==0.23.201228b1) (1.3.1)\nRequirement already satisfied: certifi>=2017.4.17 in /usr/local/lib/python3.7/site-packages (from msrest>=0.6.21->azure-quantum[qiskit]==0.23.201228b1) (2021.10.8)\nRequirement already satisfied: tweedledum<2.0,>=1.1 in /usr/local/lib/python3.7/site-packages (from qiskit-terra>=0.19.1->azure-quantum[qiskit]==0.23.201228b1) (1.1.1)\nRequirement already satisfied: ply>=3.10 in /usr/local/lib/python3.7/site-packages (from qiskit-terra>=0.19.1->azure-quantum[qiskit]==0.23.201228b1) (3.11)\nRequirement already satisfied: dill>=0.3 in /usr/local/lib/python3.7/site-packages (from qiskit-terra>=0.19.1->azure-quantum[qiskit]==0.23.201228b1) (0.3.4)\nRequirement already satisfied: python-dateutil>=2.8.0 in /usr/local/lib/python3.7/site-packages (from qiskit-terra>=0.19.1->azure-quantum[qiskit]==0.23.201228b1) (2.8.2)\nRequirement already satisfied: stevedore>=3.0.0 in /usr/local/lib/python3.7/site-packages (from qiskit-terra>=0.19.1->azure-quantum[qiskit]==0.23.201228b1) (3.5.0)\nRequirement already satisfied: sympy>=1.3 in /usr/local/lib/python3.7/site-packages (from qiskit-terra>=0.19.1->azure-quantum[qiskit]==0.23.201228b1) (1.10.1)\nRequirement already satisfied: psutil>=5 in /usr/local/lib/python3.7/site-packages (from qiskit-terra>=0.19.1->azure-quantum[qiskit]==0.23.201228b1) (5.9.0)\nRequirement already satisfied: retworkx>=0.11.0 in /usr/local/lib/python3.7/site-packages (from qiskit-terra>=0.19.1->azure-quantum[qiskit]==0.23.201228b1) (0.11.0)\nRequirement already satisfied: python-constraint>=1.4 in /usr/local/lib/python3.7/site-packages (from qiskit-terra>=0.19.1->azure-quantum[qiskit]==0.23.201228b1) (1.4.0)\nRequirement already satisfied: symengine>=0.9 in /usr/local/lib/python3.7/site-packages (from qiskit-terra>=0.19.1->azure-quantum[qiskit]==0.23.201228b1) (0.9.2)\nRequirement already satisfied: scipy>=1.5 in /usr/local/lib/python3.7/site-packages (from qiskit-terra>=0.19.1->azure-quantum[qiskit]==0.23.201228b1) (1.7.3)\nRequirement already satisfied: cffi>=1.12 in /usr/local/lib/python3.7/site-packages (from cryptography>=2.5->azure-identity>=1.6.0->azure-quantum[qiskit]==0.23.201228b1) (1.15.0)\nRequirement already satisfied: PyJWT[crypto]<3,>=1.0.0 in /usr/local/lib/python3.7/site-packages (from msal<2.0.0,>=1.12.0->azure-identity>=1.6.0->azure-quantum[qiskit]==0.23.201228b1) (2.3.0)\nRequirement already satisfied: portalocker<3,>=1.0 in /usr/local/lib/python3.7/site-packages (from msal-extensions~=0.3.0->azure-identity>=1.6.0->azure-quantum[qiskit]==0.23.201228b1) (2.4.0)\nRequirement already satisfied: urllib3<1.27,>=1.21.1 in /usr/local/lib/python3.7/site-packages (from requests>=2.18.4->azure-core>=1.19.1->azure-quantum[qiskit]==0.23.201228b1) (1.26.9)\nRequirement already satisfied: idna<4,>=2.5 in /usr/local/lib/python3.7/site-packages (from requests>=2.18.4->azure-core>=1.19.1->azure-quantum[qiskit]==0.23.201228b1) (3.3)\nRequirement already satisfied: oauthlib>=3.0.0 in /usr/local/lib/python3.7/site-packages (from requests-oauthlib>=0.5.0->msrest>=0.6.21->azure-quantum[qiskit]==0.23.201228b1) (3.2.0)\nRequirement already satisfied: pbr!=2.1.0,>=2.0.0 in /usr/local/lib/python3.7/site-packages (from stevedore>=3.0.0->qiskit-terra>=0.19.1->azure-quantum[qiskit]==0.23.201228b1) (5.8.1)\nRequirement already satisfied: importlib-metadata>=1.7.0 in /usr/local/lib/python3.7/site-packages (from stevedore>=3.0.0->qiskit-terra>=0.19.1->azure-quantum[qiskit]==0.23.201228b1) (2.1.3)\nRequirement already satisfied: mpmath>=0.19 in /usr/local/lib/python3.7/site-packages (from sympy>=1.3->qiskit-terra>=0.19.1->azure-quantum[qiskit]==0.23.201228b1) (1.2.1)\nRequirement already satisfied: pycparser in /usr/local/lib/python3.7/site-packages (from cffi>=1.12->cryptography>=2.5->azure-identity>=1.6.0->azure-quantum[qiskit]==0.23.201228b1) (2.21)\nRequirement already satisfied: zipp>=0.5 in /usr/local/lib/python3.7/site-packages (from importlib-metadata>=1.7.0->stevedore>=3.0.0->qiskit-terra>=0.19.1->azure-quantum[qiskit]==0.23.201228b1) (3.7.0)\nInstalling collected packages: azure-quantum\nSuccessfully installed azure-quantum-0.23.201228b1\n"
        }
      ],
      "execution_count": 1,
      "metadata": {
        "jupyter": {
          "source_hidden": false,
          "outputs_hidden": false
        },
        "nteract": {
          "transient": {
            "deleting": false
          }
        }
      }
    },
    {
      "cell_type": "code",
      "source": [
        "\n",
        "from azure.quantum.qiskit import AzureQuantumProvider\n",
        "provider = AzureQuantumProvider (\n",
        "    resource_id = \"/subscriptions/33e6f75e-0499-425c-8b7d-9f593dde82b6/resourceGroups/AQET/providers/Microsoft.Quantum/Workspaces/CHEM560\",\n",
        "    location = \"westus\")\n",
        "\n",
        "\n",
        "from IPython.display import Image\n",
        "from IPython.core.display import HTML \n",
        "\n",
        "import qiskit\n",
        "\n",
        "from qiskit.quantum_info import DensityMatrix\n",
        "from qiskit_experiments.framework import ParallelExperiment\n",
        "from qiskit_experiments.framework.experiment_data import ExperimentData\n",
        "import qiskit.quantum_info as qi\n",
        "from qiskit_experiments.library import StateTomography\n",
        "\n",
        "from qiskit import QuantumCircuit, assemble, Aer\n",
        "from math import pi, sqrt\n",
        "from qiskit.visualization import plot_bloch_multivector, plot_histogram, plot_state_city\n",
        "\n",
        "import numpy as np\n",
        "\n"
      ],
      "outputs": [],
      "execution_count": 1,
      "metadata": {
        "jupyter": {
          "source_hidden": false,
          "outputs_hidden": false
        },
        "nteract": {
          "transient": {
            "deleting": false
          }
        }
      }
    },
    {
      "cell_type": "code",
      "source": [
        "from qiskit import QuantumCircuit\n",
        "from qiskit.visualization import plot_histogram\n",
        "from qiskit.tools.monitor import job_monitor\n",
        "\n",
        "print(\"This workspace's targets:\")\n",
        "for backend in provider.backends():\n",
        "    print(\"- \" + backend.name())"
      ],
      "outputs": [
        {
          "output_type": "stream",
          "name": "stdout",
          "text": "This workspace's targets:\n- ionq.qpu\n- ionq.simulator\n- quantinuum.hqs-lt-s1\n- quantinuum.hqs-lt-s1-apival\n- quantinuum.hqs-lt-s2\n- quantinuum.hqs-lt-s2-apival\n- quantinuum.hqs-lt-s1-sim\n- quantinuum.hqs-lt-s2-sim\n"
        }
      ],
      "execution_count": 2,
      "metadata": {
        "jupyter": {
          "source_hidden": false,
          "outputs_hidden": false
        },
        "nteract": {
          "transient": {
            "deleting": false
          }
        }
      }
    },
    {
      "cell_type": "code",
      "source": [
        "ionq_simulator_backend = provider.get_backend(\"ionq.simulator\")\n",
        "ionq_qpu_backend = provider.get_backend(\"ionq.qpu\")\n",
        "aer_simulator_backend = Aer.get_backend('aer_simulator')"
      ],
      "outputs": [],
      "execution_count": 3,
      "metadata": {
        "jupyter": {
          "source_hidden": false,
          "outputs_hidden": false
        },
        "nteract": {
          "transient": {
            "deleting": false
          }
        }
      }
    },
    {
      "cell_type": "markdown",
      "source": [
        "# CHEM 560 Problem Set 4\n"
      ],
      "metadata": {
        "nteract": {
          "transient": {
            "deleting": false
          }
        }
      }
    },
    {
      "cell_type": "markdown",
      "source": [
        "###### Implementing the UCC ansatz on quantum computers to get the energy for $H_2$"
      ],
      "metadata": {
        "nteract": {
          "transient": {
            "deleting": false
          }
        }
      }
    },
    {
      "cell_type": "markdown",
      "source": [
        "Reference Data.\n",
        "\n",
        "From the code from Josh's blog, we obtain the following result using linear algebra:\n",
        "\n",
        "- g1 Energy: -0.5428437 Eh\n",
        "- g2 Energy: -1.2821432 Eh\n",
        "- g3 Energy: -0.6719000 Eh\n",
        "- g4 Energy: -0.0069261 Eh\n",
        "- g5 Energy: -0.0069261 Eh\n",
        "- Total E:   -0.3239392 Eh"
      ],
      "metadata": {
        "nteract": {
          "transient": {
            "deleting": false
          }
        }
      }
    },
    {
      "cell_type": "markdown",
      "source": [
        "**1. First, try using AER simulator**"
      ],
      "metadata": {
        "nteract": {
          "transient": {
            "deleting": false
          }
        }
      }
    },
    {
      "cell_type": "markdown",
      "source": [
        "$E = g_0 \\langle \\mathbf{I}\\rangle + g_1 \\langle Z_0 \\rangle +  g_1 \\langle Z_1 \\rangle + g_3 \\langle Z_0 Z_1 \\rangle + g_4 \\langle Y_0 Y_1 \\rangle + g_5 \\langle X_0 X_1 \\rangle $"
      ],
      "metadata": {
        "nteract": {
          "transient": {
            "deleting": false
          }
        }
      }
    },
    {
      "cell_type": "markdown",
      "source": [
        "$g_0$ is a constant"
      ],
      "metadata": {
        "nteract": {
          "transient": {
            "deleting": false
          }
        }
      }
    },
    {
      "cell_type": "code",
      "source": [
        "g0 = 2.1868"
      ],
      "outputs": [],
      "execution_count": 241,
      "metadata": {
        "jupyter": {
          "source_hidden": false,
          "outputs_hidden": false
        },
        "nteract": {
          "transient": {
            "deleting": false
          }
        }
      }
    },
    {
      "cell_type": "markdown",
      "source": [
        "Energy from the g1 term"
      ],
      "metadata": {
        "nteract": {
          "transient": {
            "deleting": false
          }
        }
      }
    },
    {
      "cell_type": "code",
      "source": [
        "# g1 <I1 Sz0>\n",
        "g1 = +0.5449\n",
        "g2 = -1.2870\n",
        "g3 = +0.6719\n",
        "g4 = +0.0798\n",
        "g5 = +0.0798\n",
        "\n",
        "# Create initial state |01>\n",
        "circuit_g1 = QuantumCircuit(2,1)\n",
        "circuit_g1.name = 'g1_measurement'\n",
        "circuit_g1.x(1)\n",
        "\n",
        "# Apply the Ansatz\n",
        "circuit_g1.ry(np.pi/2,0)\n",
        "circuit_g1.rx(3*np.pi/2,1)\n",
        "circuit_g1.cx(0,1)\n",
        "circuit_g1.rz(3.0546895,1)\n",
        "circuit_g1.cx(0,1)\n",
        "circuit_g1.ry(3*np.pi/2,0)\n",
        "circuit_g1.rx(np.pi/2,1)\n",
        "\n",
        "# Obtain measurement\n",
        "circuit_g1.swap(0,1)\n",
        "circuit_g1.measure([1],[0])\n",
        "circuit_g1.draw()"
      ],
      "outputs": [
        {
          "output_type": "execute_result",
          "execution_count": 242,
          "data": {
            "text/plain": "     ┌─────────┐                                    ┌──────────┐      \nq_0: ┤ Ry(π/2) ├──────────────■──────────────────■──┤ Ry(3π/2) ├─X────\n     └──┬───┬──┘┌──────────┐┌─┴─┐┌────────────┐┌─┴─┐├─────────┬┘ │ ┌─┐\nq_1: ───┤ X ├───┤ Rx(3π/2) ├┤ X ├┤ Rz(3.0547) ├┤ X ├┤ Rx(π/2) ├──X─┤M├\n        └───┘   └──────────┘└───┘└────────────┘└───┘└─────────┘    └╥┘\nc: 1/═══════════════════════════════════════════════════════════════╩═\n                                                                    0 ",
            "text/html": "<pre style=\"word-wrap: normal;white-space: pre;background: #fff0;line-height: 1.1;font-family: &quot;Courier New&quot;,Courier,monospace\">     ┌─────────┐                                    ┌──────────┐      \nq_0: ┤ Ry(π/2) ├──────────────■──────────────────■──┤ Ry(3π/2) ├─X────\n     └──┬───┬──┘┌──────────┐┌─┴─┐┌────────────┐┌─┴─┐├─────────┬┘ │ ┌─┐\nq_1: ───┤ X ├───┤ Rx(3π/2) ├┤ X ├┤ Rz(3.0547) ├┤ X ├┤ Rx(π/2) ├──X─┤M├\n        └───┘   └──────────┘└───┘└────────────┘└───┘└─────────┘    └╥┘\nc: 1/═══════════════════════════════════════════════════════════════╩═\n                                                                    0 </pre>"
          },
          "metadata": {}
        }
      ],
      "execution_count": 242,
      "metadata": {
        "jupyter": {
          "source_hidden": false,
          "outputs_hidden": false
        },
        "nteract": {
          "transient": {
            "deleting": false
          }
        }
      }
    },
    {
      "cell_type": "code",
      "source": [
        "g1_aer_job = aer_simulator_backend.run(circuit_g1)\n",
        "g1_aer_result = g1_aer_job.result()"
      ],
      "outputs": [],
      "execution_count": 243,
      "metadata": {
        "jupyter": {
          "source_hidden": false,
          "outputs_hidden": false
        },
        "nteract": {
          "transient": {
            "deleting": false
          }
        }
      }
    },
    {
      "cell_type": "code",
      "source": [
        "plot_histogram(g1_aer_result.get_counts())"
      ],
      "outputs": [
        {
          "output_type": "execute_result",
          "execution_count": 244,
          "data": {
            "text/plain": "<Figure size 504x360 with 1 Axes>",
            "image/png": "[encoded data removed]"
          },
          "metadata": {}
        }
      ],
      "execution_count": 244,
      "metadata": {
        "jupyter": {
          "source_hidden": false,
          "outputs_hidden": false
        },
        "nteract": {
          "transient": {
            "deleting": false
          }
        }
      }
    },
    {
      "cell_type": "markdown",
      "source": [
        "From Hw2, we saw that with z basis measurement, we can get use the following equation to convert probability to expectation value:\n",
        "$$ \\langle Z \\rangle = \\langle \\psi \\vert Z \\vert \\psi \\rangle = \\langle \\psi \\lvert (\\vert 0 \\rangle \\langle 0 \\vert - \\vert 1 \\rangle \\langle 1 \\vert )\\rvert \\psi \\rangle = (\\sqrt{0.000})^2 - (\\sqrt{0.999})^2 = −0.999 $$ "
      ],
      "metadata": {
        "nteract": {
          "transient": {
            "deleting": false
          }
        }
      }
    },
    {
      "cell_type": "code",
      "source": [
        "g1_energy = g1*(-0.999)\n",
        "print(g1_energy)"
      ],
      "outputs": [
        {
          "output_type": "stream",
          "name": "stdout",
          "text": "-0.5443551000000001\n"
        }
      ],
      "execution_count": 245,
      "metadata": {
        "jupyter": {
          "source_hidden": false,
          "outputs_hidden": false
        },
        "nteract": {
          "transient": {
            "deleting": false
          }
        }
      }
    },
    {
      "cell_type": "markdown",
      "source": [
        "We want to automate this calculation by exactracting the count values directly from the 'get_counts'output dictionary. We will define the following function:"
      ],
      "metadata": {
        "nteract": {
          "transient": {
            "deleting": false
          }
        }
      }
    },
    {
      "cell_type": "code",
      "source": [
        "def get_energy(result,g):\n",
        "    count1 = 0.0\n",
        "    count0 = 0.0\n",
        "    if ('0' in result.get_counts()):\n",
        "        count0 = result.get_counts()['0']\n",
        "\n",
        "    if ('1' in result.get_counts()):\n",
        "        count1 = result.get_counts()['1']\n",
        "\n",
        "    prob1 = np.sqrt(count1/(count1+count0))\n",
        "    prob0 = np.sqrt(count0/(count1+count0))\n",
        "    expectation_val = prob0**2 - prob1**2\n",
        "    energy = g*(expectation_val)\n",
        "\n",
        "    return energy"
      ],
      "outputs": [],
      "execution_count": 246,
      "metadata": {
        "jupyter": {
          "source_hidden": false,
          "outputs_hidden": false
        },
        "nteract": {
          "transient": {
            "deleting": false
          }
        }
      }
    },
    {
      "cell_type": "code",
      "source": [
        "g1_aer_energy = get_energy(g1_aer_result,g1)\n",
        "print(g1_aer_energy)"
      ],
      "outputs": [
        {
          "output_type": "stream",
          "name": "stdout",
          "text": "-0.5417072265625001\n"
        }
      ],
      "execution_count": 247,
      "metadata": {
        "jupyter": {
          "source_hidden": false,
          "outputs_hidden": false
        },
        "nteract": {
          "transient": {
            "deleting": false
          }
        }
      }
    },
    {
      "cell_type": "markdown",
      "source": [
        "Energy from the g2 term"
      ],
      "metadata": {
        "nteract": {
          "transient": {
            "deleting": false
          }
        }
      }
    },
    {
      "cell_type": "code",
      "source": [
        "# g2 <SZ1 I0>\n",
        "g1 = +0.5449\n",
        "g2 = -1.2870\n",
        "g3 = +0.6719\n",
        "g4 = +0.0798\n",
        "g5 = +0.0798\n",
        "\n",
        "# Create initial state |01>\n",
        "circuit_g2 = QuantumCircuit(2,1)\n",
        "circuit_g2.name = 'g1_measurement'\n",
        "circuit_g2.x(1)\n",
        "\n",
        "# Apply the Ansatz\n",
        "circuit_g2.ry(np.pi/2,0)\n",
        "circuit_g2.rx(3*np.pi/2,1)\n",
        "circuit_g2.cx(0,1)\n",
        "circuit_g2.rz(3.0546895,1)\n",
        "circuit_g2.cx(0,1)\n",
        "circuit_g2.ry(3*np.pi/2,0)\n",
        "circuit_g2.rx(np.pi/2,1)\n",
        "\n",
        "# Obtain measurement\n",
        "circuit_g2.measure([1],[0])\n",
        "circuit_g2.draw()"
      ],
      "outputs": [
        {
          "output_type": "execute_result",
          "execution_count": 248,
          "data": {
            "text/plain": "     ┌─────────┐                                    ┌──────────┐   \nq_0: ┤ Ry(π/2) ├──────────────■──────────────────■──┤ Ry(3π/2) ├───\n     └──┬───┬──┘┌──────────┐┌─┴─┐┌────────────┐┌─┴─┐├─────────┬┘┌─┐\nq_1: ───┤ X ├───┤ Rx(3π/2) ├┤ X ├┤ Rz(3.0547) ├┤ X ├┤ Rx(π/2) ├─┤M├\n        └───┘   └──────────┘└───┘└────────────┘└───┘└─────────┘ └╥┘\nc: 1/════════════════════════════════════════════════════════════╩═\n                                                                 0 ",
            "text/html": "<pre style=\"word-wrap: normal;white-space: pre;background: #fff0;line-height: 1.1;font-family: &quot;Courier New&quot;,Courier,monospace\">     ┌─────────┐                                    ┌──────────┐   \nq_0: ┤ Ry(π/2) ├──────────────■──────────────────■──┤ Ry(3π/2) ├───\n     └──┬───┬──┘┌──────────┐┌─┴─┐┌────────────┐┌─┴─┐├─────────┬┘┌─┐\nq_1: ───┤ X ├───┤ Rx(3π/2) ├┤ X ├┤ Rz(3.0547) ├┤ X ├┤ Rx(π/2) ├─┤M├\n        └───┘   └──────────┘└───┘└────────────┘└───┘└─────────┘ └╥┘\nc: 1/════════════════════════════════════════════════════════════╩═\n                                                                 0 </pre>"
          },
          "metadata": {}
        }
      ],
      "execution_count": 248,
      "metadata": {
        "jupyter": {
          "source_hidden": false,
          "outputs_hidden": false
        },
        "nteract": {
          "transient": {
            "deleting": false
          }
        }
      }
    },
    {
      "cell_type": "code",
      "source": [
        "g2_aer_job = aer_simulator_backend.run(circuit_g2)\n",
        "g2_aer_result = g2_aer_job.result()\n",
        "g2_aer_energy = get_energy(g2_aer_result,g2)\n",
        "print(g2_aer_energy)"
      ],
      "outputs": [
        {
          "output_type": "stream",
          "name": "stdout",
          "text": "-1.287\n"
        }
      ],
      "execution_count": 249,
      "metadata": {
        "jupyter": {
          "source_hidden": false,
          "outputs_hidden": false
        },
        "nteract": {
          "transient": {
            "deleting": false
          }
        }
      }
    },
    {
      "cell_type": "markdown",
      "source": [
        "Energy from the g3 term"
      ],
      "metadata": {
        "nteract": {
          "transient": {
            "deleting": false
          }
        }
      }
    },
    {
      "cell_type": "code",
      "source": [
        "# g3 <Sz1 Sz0>\n",
        "g1 = +0.5449\n",
        "g2 = -1.2870\n",
        "g3 = +0.6719\n",
        "g4 = +0.0798\n",
        "g5 = +0.0798\n",
        "\n",
        "# Create initial state |01>\n",
        "circuit_g3 = QuantumCircuit(2,1)\n",
        "circuit_g3.name = 'g1_measurement'\n",
        "circuit_g3.x(1)\n",
        "\n",
        "# Apply the Ansatz\n",
        "circuit_g3.ry(np.pi/2,0)\n",
        "circuit_g3.rx(3*np.pi/2,1)\n",
        "circuit_g3.cx(0,1)\n",
        "circuit_g3.rz(3.0546895,1)\n",
        "circuit_g3.cx(0,1)\n",
        "circuit_g3.ry(3*np.pi/2,0)\n",
        "circuit_g3.rx(np.pi/2,1)\n",
        "\n",
        "# Obtain measurement\n",
        "circuit_g3.cx(0,1)\n",
        "circuit_g3.measure([1],[0])\n",
        "circuit_g3.draw()"
      ],
      "outputs": [
        {
          "output_type": "execute_result",
          "execution_count": 250,
          "data": {
            "text/plain": "     ┌─────────┐                                    ┌──────────┐        \nq_0: ┤ Ry(π/2) ├──────────────■──────────────────■──┤ Ry(3π/2) ├──■─────\n     └──┬───┬──┘┌──────────┐┌─┴─┐┌────────────┐┌─┴─┐├─────────┬┘┌─┴─┐┌─┐\nq_1: ───┤ X ├───┤ Rx(3π/2) ├┤ X ├┤ Rz(3.0547) ├┤ X ├┤ Rx(π/2) ├─┤ X ├┤M├\n        └───┘   └──────────┘└───┘└────────────┘└───┘└─────────┘ └───┘└╥┘\nc: 1/═════════════════════════════════════════════════════════════════╩═\n                                                                      0 ",
            "text/html": "<pre style=\"word-wrap: normal;white-space: pre;background: #fff0;line-height: 1.1;font-family: &quot;Courier New&quot;,Courier,monospace\">     ┌─────────┐                                    ┌──────────┐        \nq_0: ┤ Ry(π/2) ├──────────────■──────────────────■──┤ Ry(3π/2) ├──■─────\n     └──┬───┬──┘┌──────────┐┌─┴─┐┌────────────┐┌─┴─┐├─────────┬┘┌─┴─┐┌─┐\nq_1: ───┤ X ├───┤ Rx(3π/2) ├┤ X ├┤ Rz(3.0547) ├┤ X ├┤ Rx(π/2) ├─┤ X ├┤M├\n        └───┘   └──────────┘└───┘└────────────┘└───┘└─────────┘ └───┘└╥┘\nc: 1/═════════════════════════════════════════════════════════════════╩═\n                                                                      0 </pre>"
          },
          "metadata": {}
        }
      ],
      "execution_count": 250,
      "metadata": {
        "jupyter": {
          "source_hidden": false,
          "outputs_hidden": false
        },
        "nteract": {
          "transient": {
            "deleting": false
          }
        }
      }
    },
    {
      "cell_type": "code",
      "source": [
        "g3_aer_job = aer_simulator_backend.run(circuit_g3)\n",
        "g3_aer_result = g3_aer_job.result()\n",
        "g3_aer_energy = get_energy(g3_aer_result,g3)\n",
        "print(g3_aer_energy)"
      ],
      "outputs": [
        {
          "output_type": "stream",
          "name": "stdout",
          "text": "-0.6719\n"
        }
      ],
      "execution_count": 251,
      "metadata": {
        "jupyter": {
          "source_hidden": false,
          "outputs_hidden": false
        },
        "nteract": {
          "transient": {
            "deleting": false
          }
        }
      }
    },
    {
      "cell_type": "code",
      "source": [
        "# g4 <Sx1 Sx0>\n",
        "g1 = +0.5449\n",
        "g2 = -1.2870\n",
        "g3 = +0.6719\n",
        "g4 = +0.0798\n",
        "g5 = +0.0798\n",
        "\n",
        "# Create initial state |01>\n",
        "circuit_g4 = QuantumCircuit(2,1)\n",
        "circuit_g4.name = 'g1_measurement'\n",
        "circuit_g4.x(1)\n",
        "\n",
        "# Apply the Ansatz\n",
        "circuit_g4.ry(np.pi/2,0)\n",
        "circuit_g4.rx(3*np.pi/2,1)\n",
        "circuit_g4.cx(0,1)\n",
        "circuit_g4.rz(3.0546895,1)\n",
        "circuit_g4.cx(0,1)\n",
        "circuit_g4.ry(3*np.pi/2,0)\n",
        "circuit_g4.rx(np.pi/2,1)\n",
        "\n",
        "# Obtain measurement\n",
        "circuit_g4.cx(0,1)\n",
        "circuit_g4.h(0)\n",
        "circuit_g4.h(1)\n",
        "circuit_g4.measure([1],[0])\n",
        "circuit_g4.draw()"
      ],
      "outputs": [
        {
          "output_type": "execute_result",
          "execution_count": 252,
          "data": {
            "text/plain": "     ┌─────────┐                                    ┌──────────┐     ┌───┐   \nq_0: ┤ Ry(π/2) ├──────────────■──────────────────■──┤ Ry(3π/2) ├──■──┤ H ├───\n     └──┬───┬──┘┌──────────┐┌─┴─┐┌────────────┐┌─┴─┐├─────────┬┘┌─┴─┐├───┤┌─┐\nq_1: ───┤ X ├───┤ Rx(3π/2) ├┤ X ├┤ Rz(3.0547) ├┤ X ├┤ Rx(π/2) ├─┤ X ├┤ H ├┤M├\n        └───┘   └──────────┘└───┘└────────────┘└───┘└─────────┘ └───┘└───┘└╥┘\nc: 1/══════════════════════════════════════════════════════════════════════╩═\n                                                                           0 ",
            "text/html": "<pre style=\"word-wrap: normal;white-space: pre;background: #fff0;line-height: 1.1;font-family: &quot;Courier New&quot;,Courier,monospace\">     ┌─────────┐                                    ┌──────────┐     ┌───┐   \nq_0: ┤ Ry(π/2) ├──────────────■──────────────────■──┤ Ry(3π/2) ├──■──┤ H ├───\n     └──┬───┬──┘┌──────────┐┌─┴─┐┌────────────┐┌─┴─┐├─────────┬┘┌─┴─┐├───┤┌─┐\nq_1: ───┤ X ├───┤ Rx(3π/2) ├┤ X ├┤ Rz(3.0547) ├┤ X ├┤ Rx(π/2) ├─┤ X ├┤ H ├┤M├\n        └───┘   └──────────┘└───┘└────────────┘└───┘└─────────┘ └───┘└───┘└╥┘\nc: 1/══════════════════════════════════════════════════════════════════════╩═\n                                                                           0 </pre>"
          },
          "metadata": {}
        }
      ],
      "execution_count": 252,
      "metadata": {
        "jupyter": {
          "source_hidden": false,
          "outputs_hidden": false
        },
        "nteract": {
          "transient": {
            "deleting": false
          }
        }
      }
    },
    {
      "cell_type": "code",
      "source": [
        "g4_aer_job = aer_simulator_backend.run(circuit_g4)\n",
        "g4_aer_result = g4_aer_job.result()\n",
        "g4_aer_energy = get_energy(g4_aer_result,g4)\n",
        "print(g4_aer_energy)"
      ],
      "outputs": [
        {
          "output_type": "stream",
          "name": "stdout",
          "text": "-0.002026171874999991\n"
        }
      ],
      "execution_count": 253,
      "metadata": {
        "jupyter": {
          "source_hidden": false,
          "outputs_hidden": false
        },
        "nteract": {
          "transient": {
            "deleting": false
          }
        }
      }
    },
    {
      "cell_type": "code",
      "source": [
        "# g5 <Sy1 Sy0>\n",
        "g1 = +0.5449\n",
        "g2 = -1.2870\n",
        "g3 = +0.6719\n",
        "g4 = +0.0798\n",
        "g5 = +0.0798\n",
        "\n",
        "# Create initial state |01>\n",
        "circuit_g5 = QuantumCircuit(2,1)\n",
        "circuit_g5.name = 'g1_measurement'\n",
        "circuit_g5.x(1)\n",
        "\n",
        "# Apply the Ansatz\n",
        "circuit_g5.ry(np.pi/2,0)\n",
        "circuit_g5.rx(3*np.pi/2,1)\n",
        "circuit_g5.cx(0,1)\n",
        "circuit_g5.rz(3.0546895,1)\n",
        "circuit_g5.cx(0,1)\n",
        "circuit_g5.ry(3*np.pi/2,0)\n",
        "circuit_g5.rx(np.pi/2,1)\n",
        "\n",
        "# Obtain measurement\n",
        "circuit_g5.cx(0,1)\n",
        "circuit_g5.h(0)\n",
        "circuit_g5.sdg(0)\n",
        "circuit_g5.h(1)\n",
        "circuit_g5.sdg(1)\n",
        "\n",
        "circuit_g5.measure([1],[0])\n",
        "circuit_g5.draw()"
      ],
      "outputs": [
        {
          "output_type": "execute_result",
          "execution_count": 254,
          "data": {
            "text/plain": "     ┌─────────┐                                    ┌──────────┐     ┌───┐»\nq_0: ┤ Ry(π/2) ├──────────────■──────────────────■──┤ Ry(3π/2) ├──■──┤ H ├»\n     └──┬───┬──┘┌──────────┐┌─┴─┐┌────────────┐┌─┴─┐├─────────┬┘┌─┴─┐├───┤»\nq_1: ───┤ X ├───┤ Rx(3π/2) ├┤ X ├┤ Rz(3.0547) ├┤ X ├┤ Rx(π/2) ├─┤ X ├┤ H ├»\n        └───┘   └──────────┘└───┘└────────────┘└───┘└─────────┘ └───┘└───┘»\nc: 1/═════════════════════════════════════════════════════════════════════»\n                                                                          »\n«     ┌─────┐   \n«q_0: ┤ Sdg ├───\n«     ├─────┤┌─┐\n«q_1: ┤ Sdg ├┤M├\n«     └─────┘└╥┘\n«c: 1/════════╩═\n«             0 ",
            "text/html": "<pre style=\"word-wrap: normal;white-space: pre;background: #fff0;line-height: 1.1;font-family: &quot;Courier New&quot;,Courier,monospace\">     ┌─────────┐                                    ┌──────────┐     ┌───┐»\nq_0: ┤ Ry(π/2) ├──────────────■──────────────────■──┤ Ry(3π/2) ├──■──┤ H ├»\n     └──┬───┬──┘┌──────────┐┌─┴─┐┌────────────┐┌─┴─┐├─────────┬┘┌─┴─┐├───┤»\nq_1: ───┤ X ├───┤ Rx(3π/2) ├┤ X ├┤ Rz(3.0547) ├┤ X ├┤ Rx(π/2) ├─┤ X ├┤ H ├»\n        └───┘   └──────────┘└───┘└────────────┘└───┘└─────────┘ └───┘└───┘»\nc: 1/═════════════════════════════════════════════════════════════════════»\n                                                                          »\n«     ┌─────┐   \n«q_0: ┤ Sdg ├───\n«     ├─────┤┌─┐\n«q_1: ┤ Sdg ├┤M├\n«     └─────┘└╥┘\n«c: 1/════════╩═\n«             0 </pre>"
          },
          "metadata": {}
        }
      ],
      "execution_count": 254,
      "metadata": {
        "jupyter": {
          "source_hidden": false,
          "outputs_hidden": false
        },
        "nteract": {
          "transient": {
            "deleting": false
          }
        }
      }
    },
    {
      "cell_type": "code",
      "source": [
        "g5_aer_job = aer_simulator_backend.run(circuit_g5)\n",
        "g5_aer_result = g5_aer_job.result()\n",
        "g5_aer_energy = get_energy(g5_aer_result,g5)\n",
        "print(g5_aer_energy)"
      ],
      "outputs": [
        {
          "output_type": "stream",
          "name": "stdout",
          "text": "0.003896484375000004\n"
        }
      ],
      "execution_count": 257,
      "metadata": {
        "jupyter": {
          "source_hidden": false,
          "outputs_hidden": false
        },
        "nteract": {
          "transient": {
            "deleting": false
          }
        }
      }
    },
    {
      "cell_type": "code",
      "source": [
        "print('g1 Energy: %10.7f Eh' % g1_aer_energy)\n",
        "print('g2 Energy: %10.7f Eh' % g2_aer_energy)\n",
        "print('g3 Energy: %10.7f Eh' % g3_aer_energy)\n",
        "print('g4 Energy: %10.7f Eh' % g4_aer_energy)\n",
        "print('g5 Energy: %10.7f Eh' % g5_aer_energy)\n",
        "\n",
        "total_energy = g0 + g1_aer_energy + g2_aer_energy + g3_aer_energy + g4_aer_energy + g5_aer_energy\n",
        "print('Total Energy: %10.7f Eh' % total_energy)"
      ],
      "outputs": [
        {
          "output_type": "stream",
          "name": "stdout",
          "text": "g1 Energy: -0.5417072 Eh\ng2 Energy: -1.2870000 Eh\ng3 Energy: -0.6719000 Eh\ng4 Energy: -0.0020262 Eh\ng5 Energy:  0.0038965 Eh\nTotal Energy: -0.3119369 Eh\n"
        }
      ],
      "execution_count": 258,
      "metadata": {
        "jupyter": {
          "source_hidden": false,
          "outputs_hidden": false
        },
        "nteract": {
          "transient": {
            "deleting": false
          }
        }
      }
    },
    {
      "cell_type": "markdown",
      "source": [
        "**2. First, try using Ionq simulator**"
      ],
      "metadata": {
        "nteract": {
          "transient": {
            "deleting": false
          }
        }
      }
    },
    {
      "cell_type": "code",
      "source": [
        "g1_ionq_job = ionq_simulator_backend.run(circuit_g1)\n",
        "g1_ionq_result = g1_ionq_job.result()"
      ],
      "outputs": [
        {
          "output_type": "stream",
          "name": "stdout",
          "text": "............"
        }
      ],
      "execution_count": 205,
      "metadata": {
        "jupyter": {
          "source_hidden": false,
          "outputs_hidden": false
        },
        "nteract": {
          "transient": {
            "deleting": false
          }
        }
      }
    },
    {
      "cell_type": "code",
      "source": [
        "g2_ionq_job = ionq_simulator_backend.run(circuit_g2)\n",
        "g2_ionq_result = g2_ionq_job.result()"
      ],
      "outputs": [
        {
          "output_type": "stream",
          "name": "stdout",
          "text": "............"
        }
      ],
      "execution_count": 206,
      "metadata": {
        "jupyter": {
          "source_hidden": false,
          "outputs_hidden": false
        },
        "nteract": {
          "transient": {
            "deleting": false
          }
        }
      }
    },
    {
      "cell_type": "code",
      "source": [
        "g3_ionq_job = ionq_simulator_backend.run(circuit_g3)\n",
        "g3_ionq_result = g3_ionq_job.result()"
      ],
      "outputs": [
        {
          "output_type": "stream",
          "name": "stdout",
          "text": "............"
        }
      ],
      "execution_count": 207,
      "metadata": {
        "jupyter": {
          "source_hidden": false,
          "outputs_hidden": false
        },
        "nteract": {
          "transient": {
            "deleting": false
          }
        }
      }
    },
    {
      "cell_type": "code",
      "source": [
        "g4_ionq_job = ionq_simulator_backend.run(circuit_g4)\n",
        "g4_ionq_result = g4_ionq_job.result()"
      ],
      "outputs": [
        {
          "output_type": "stream",
          "name": "stdout",
          "text": "..........."
        }
      ],
      "execution_count": 208,
      "metadata": {
        "jupyter": {
          "source_hidden": false,
          "outputs_hidden": false
        },
        "nteract": {
          "transient": {
            "deleting": false
          }
        }
      }
    },
    {
      "cell_type": "code",
      "source": [
        "g5_ionq_job = ionq_simulator_backend.run(circuit_g5)\n",
        "g5_ionq_result = g5_ionq_job.result()"
      ],
      "outputs": [
        {
          "output_type": "stream",
          "name": "stdout",
          "text": "..........."
        }
      ],
      "execution_count": 209,
      "metadata": {
        "jupyter": {
          "source_hidden": false,
          "outputs_hidden": false
        },
        "nteract": {
          "transient": {
            "deleting": false
          }
        }
      }
    },
    {
      "cell_type": "code",
      "source": [
        "g1_ionq_energy = get_energy(g1_ionq_result,g1)\n",
        "g2_ionq_energy = get_energy(g2_ionq_result,g2)\n",
        "g3_ionq_energy = get_energy(g3_ionq_result,g3)\n",
        "g4_ionq_energy = get_energy(g4_ionq_result,g4)\n",
        "g5_ionq_energy = get_energy(g5_ionq_result,g5)"
      ],
      "outputs": [],
      "execution_count": 259,
      "metadata": {
        "jupyter": {
          "source_hidden": false,
          "outputs_hidden": false
        },
        "nteract": {
          "transient": {
            "deleting": false
          }
        }
      }
    },
    {
      "cell_type": "code",
      "source": [
        "print('g1 Energy: %10.7f Eh' % g1_ionq_energy)\n",
        "print('g2 Energy: %10.7f Eh' % g2_ionq_energy)\n",
        "print('g3 Energy: %10.7f Eh' % g3_ionq_energy)\n",
        "print('g4 Energy: %10.7f Eh' % g4_ionq_energy)\n",
        "print('g5 Energy: %10.7f Eh' % g5_ionq_energy)\n",
        "\n",
        "total_energy = g0 + g1_ionq_energy + g2_ionq_energy + g3_ionq_energy + g4_ionq_energy + g5_ionq_energy\n",
        "print('Total Energy: %10.7f Eh' % total_energy)"
      ],
      "outputs": [
        {
          "output_type": "stream",
          "name": "stdout",
          "text": "g1 Energy: -0.5405408 Eh\ng2 Energy: -1.2870000 Eh\ng3 Energy: -0.6719000 Eh\ng4 Energy: -0.0031920 Eh\ng5 Energy: -0.0028728 Eh\nTotal Energy: -0.3187056 Eh\n"
        }
      ],
      "execution_count": 284,
      "metadata": {
        "jupyter": {
          "source_hidden": false,
          "outputs_hidden": false
        },
        "nteract": {
          "transient": {
            "deleting": false
          }
        }
      }
    },
    {
      "cell_type": "markdown",
      "source": [
        "**3. Prepare to submit job to ionQ. We first run cost estimates**"
      ],
      "metadata": {
        "nteract": {
          "transient": {
            "deleting": false
          }
        }
      }
    },
    {
      "cell_type": "code",
      "source": [
        "circ = qiskit.transpile(circuit_g5, ionq_qpu_backend)\n",
        "cost = ionq_qpu_backend.estimate_cost(circ, shots=200)\n",
        "print(cost)"
      ],
      "outputs": [
        {
          "output_type": "stream",
          "name": "stdout",
          "text": "{'additional_properties': {}, 'currency_code': 'USD', 'events': [<azure.quantum._client.models._models_py3.UsageEvent object at 0x7fa968f90090>, <azure.quantum._client.models._models_py3.UsageEvent object at 0x7fa969051f90>], 'estimated_total': 1.0}\n"
        }
      ],
      "execution_count": 265,
      "metadata": {
        "jupyter": {
          "source_hidden": false,
          "outputs_hidden": false
        },
        "nteract": {
          "transient": {
            "deleting": false
          }
        }
      }
    },
    {
      "cell_type": "code",
      "source": [
        "circ = qiskit.transpile(circuit_g5, ionq_qpu_backend)\n",
        "cost = ionq_qpu_backend.estimate_cost(circ, shots=200)\n",
        "print(cost)"
      ],
      "outputs": [
        {
          "output_type": "stream",
          "name": "stdout",
          "text": "{'additional_properties': {}, 'currency_code': 'USD', 'events': [<azure.quantum._client.models._models_py3.UsageEvent object at 0x7fa969034510>, <azure.quantum._client.models._models_py3.UsageEvent object at 0x7fa969034ed0>], 'estimated_total': 1.0}\n"
        }
      ],
      "execution_count": 266,
      "metadata": {
        "jupyter": {
          "source_hidden": false,
          "outputs_hidden": false
        },
        "nteract": {
          "transient": {
            "deleting": false
          }
        }
      }
    },
    {
      "cell_type": "code",
      "source": [
        "circ = qiskit.transpile(circuit_g5, ionq_qpu_backend)\n",
        "cost = ionq_qpu_backend.estimate_cost(circ, shots=1000)\n",
        "print(cost)"
      ],
      "outputs": [
        {
          "output_type": "stream",
          "name": "stdout",
          "text": "{'additional_properties': {}, 'currency_code': 'USD', 'events': [<azure.quantum._client.models._models_py3.UsageEvent object at 0x7fa96900f750>, <azure.quantum._client.models._models_py3.UsageEvent object at 0x7fa96900fb90>], 'estimated_total': 1.17}\n"
        }
      ],
      "execution_count": 267,
      "metadata": {
        "jupyter": {
          "source_hidden": false,
          "outputs_hidden": false
        },
        "nteract": {
          "transient": {
            "deleting": false
          }
        }
      }
    },
    {
      "cell_type": "code",
      "source": [
        "circ = qiskit.transpile(circuit_g5, ionq_qpu_backend)\n",
        "cost = ionq_qpu_backend.estimate_cost(circ, shots=5000)\n",
        "print(cost)"
      ],
      "outputs": [
        {
          "output_type": "stream",
          "name": "stdout",
          "text": "{'additional_properties': {}, 'currency_code': 'USD', 'events': [<azure.quantum._client.models._models_py3.UsageEvent object at 0x7fa968f8ced0>, <azure.quantum._client.models._models_py3.UsageEvent object at 0x7fa969051990>], 'estimated_total': 5.8500000000000005}\n"
        }
      ],
      "execution_count": 268,
      "metadata": {
        "jupyter": {
          "source_hidden": false,
          "outputs_hidden": false
        },
        "nteract": {
          "transient": {
            "deleting": false
          }
        }
      }
    },
    {
      "cell_type": "code",
      "source": [
        "circ = qiskit.transpile(circuit_g5, ionq_qpu_backend)\n",
        "cost = ionq_qpu_backend.estimate_cost(circ, shots=10000)\n",
        "print(cost)"
      ],
      "outputs": [
        {
          "output_type": "stream",
          "name": "stdout",
          "text": "{'additional_properties': {}, 'currency_code': 'USD', 'events': [<azure.quantum._client.models._models_py3.UsageEvent object at 0x7fa969051150>, <azure.quantum._client.models._models_py3.UsageEvent object at 0x7fa969051b50>], 'estimated_total': 11.700000000000001}\n"
        }
      ],
      "execution_count": 301,
      "metadata": {
        "jupyter": {
          "source_hidden": false,
          "outputs_hidden": false
        },
        "nteract": {
          "transient": {
            "deleting": false
          }
        }
      }
    },
    {
      "cell_type": "markdown",
      "source": [
        "**4. Running IonQ jobs on QPU **"
      ],
      "metadata": {
        "nteract": {
          "transient": {
            "deleting": false
          }
        }
      }
    },
    {
      "cell_type": "code",
      "source": [
        "g1_qpu_200 = ionq_qpu_backend.run(circuit_g1,shots=200)"
      ],
      "outputs": [],
      "execution_count": 269,
      "metadata": {
        "jupyter": {
          "source_hidden": false,
          "outputs_hidden": false
        },
        "nteract": {
          "transient": {
            "deleting": false
          }
        }
      }
    },
    {
      "cell_type": "code",
      "source": [
        "g2_qpu_200 = ionq_qpu_backend.run(circuit_g2,shots=200)"
      ],
      "outputs": [],
      "execution_count": 273,
      "metadata": {
        "jupyter": {
          "source_hidden": false,
          "outputs_hidden": false
        },
        "nteract": {
          "transient": {
            "deleting": false
          }
        }
      }
    },
    {
      "cell_type": "code",
      "source": [
        "g3_qpu_200 = ionq_qpu_backend.run(circuit_g3,shots=200)\n",
        "g4_qpu_200 = ionq_qpu_backend.run(circuit_g4,shots=200)\n",
        "g5_qpu_200 = ionq_qpu_backend.run(circuit_g5,shots=200)"
      ],
      "outputs": [],
      "execution_count": 278,
      "metadata": {
        "jupyter": {
          "source_hidden": false,
          "outputs_hidden": false
        },
        "nteract": {
          "transient": {
            "deleting": false
          }
        }
      }
    },
    {
      "cell_type": "code",
      "source": [
        "g1_qpu_500 = ionq_qpu_backend.run(circuit_g1,shots=500)\n",
        "g2_qpu_500 = ionq_qpu_backend.run(circuit_g2,shots=500)\n",
        "g3_qpu_500 = ionq_qpu_backend.run(circuit_g3,shots=500)\n",
        "g4_qpu_500 = ionq_qpu_backend.run(circuit_g4,shots=500)\n",
        "g5_qpu_500 = ionq_qpu_backend.run(circuit_g5,shots=500)"
      ],
      "outputs": [],
      "execution_count": 279,
      "metadata": {
        "jupyter": {
          "source_hidden": false,
          "outputs_hidden": false
        },
        "nteract": {
          "transient": {
            "deleting": false
          }
        }
      }
    },
    {
      "cell_type": "code",
      "source": [
        "g1_qpu_1000 = ionq_qpu_backend.run(circuit_g1,shots=1000)\n",
        "g2_qpu_1000 = ionq_qpu_backend.run(circuit_g2,shots=1000)\n",
        "g3_qpu_1000 = ionq_qpu_backend.run(circuit_g3,shots=1000)\n",
        "g4_qpu_1000 = ionq_qpu_backend.run(circuit_g4,shots=1000)\n",
        "g5_qpu_1000 = ionq_qpu_backend.run(circuit_g5,shots=1000)"
      ],
      "outputs": [],
      "execution_count": 280,
      "metadata": {
        "jupyter": {
          "source_hidden": false,
          "outputs_hidden": false
        },
        "nteract": {
          "transient": {
            "deleting": false
          }
        }
      }
    },
    {
      "cell_type": "code",
      "source": [
        "g1_qpu_5000 = ionq_qpu_backend.run(circuit_g1,shots=5000)\n",
        "g2_qpu_5000 = ionq_qpu_backend.run(circuit_g2,shots=5000)\n",
        "g3_qpu_5000 = ionq_qpu_backend.run(circuit_g3,shots=5000)\n",
        "g4_qpu_5000 = ionq_qpu_backend.run(circuit_g4,shots=5000)\n",
        "g5_qpu_5000 = ionq_qpu_backend.run(circuit_g5,shots=5000)"
      ],
      "outputs": [],
      "execution_count": 281,
      "metadata": {
        "jupyter": {
          "source_hidden": false,
          "outputs_hidden": false
        },
        "nteract": {
          "transient": {
            "deleting": false
          }
        }
      }
    },
    {
      "cell_type": "markdown",
      "source": [
        "**5. Analyzing Qpu result**"
      ],
      "metadata": {
        "nteract": {
          "transient": {
            "deleting": false
          }
        }
      }
    },
    {
      "cell_type": "markdown",
      "source": [
        "***5.1 200 Shots***"
      ],
      "metadata": {
        "nteract": {
          "transient": {
            "deleting": false
          }
        }
      }
    },
    {
      "cell_type": "code",
      "source": [
        "g1_qpu_200_result = g1_qpu_200.result()\n",
        "g2_qpu_200_result = g2_qpu_200.result()\n",
        "g3_qpu_200_result = g3_qpu_200.result()\n",
        "g4_qpu_200_result = g4_qpu_200.result()\n",
        "g5_qpu_200_result = g5_qpu_200.result()"
      ],
      "outputs": [],
      "execution_count": 282,
      "metadata": {
        "jupyter": {
          "source_hidden": false,
          "outputs_hidden": false
        },
        "nteract": {
          "transient": {
            "deleting": false
          }
        }
      }
    },
    {
      "cell_type": "code",
      "source": [
        "g1_qpu_200_energy = get_energy(g1_qpu_200_result,g1)\n",
        "g2_qpu_200_energy = get_energy(g2_qpu_200_result,g2)\n",
        "g3_qpu_200_energy = get_energy(g3_qpu_200_result,g3)\n",
        "g4_qpu_200_energy = get_energy(g4_qpu_200_result,g4)\n",
        "g5_qpu_200_energy = get_energy(g5_qpu_200_result,g5)"
      ],
      "outputs": [],
      "execution_count": 286,
      "metadata": {
        "jupyter": {
          "source_hidden": false,
          "outputs_hidden": false
        },
        "nteract": {
          "transient": {
            "deleting": false
          }
        }
      }
    },
    {
      "cell_type": "code",
      "source": [
        "print('g1 Energy: %10.7f Eh' % g1_qpu_200_energy)\n",
        "print('g2 Energy: %10.7f Eh' % g2_qpu_200_energy)\n",
        "print('g3 Energy: %10.7f Eh' % g3_qpu_200_energy)\n",
        "print('g4 Energy: %10.7f Eh' % g4_qpu_200_energy)\n",
        "print('g5 Energy: %10.7f Eh' % g5_qpu_200_energy)\n",
        "\n",
        "total_energy = g0 + g1_qpu_200_energy + g2_qpu_200_energy + g3_qpu_200_energy + g4_qpu_200_energy + g5_qpu_200_energy\n",
        "print('Total Energy: %10.7f Eh' % total_energy)"
      ],
      "outputs": [
        {
          "output_type": "stream",
          "name": "stdout",
          "text": "g1 Energy: -0.4522670 Eh\ng2 Energy: -1.1196900 Eh\ng3 Energy: -0.4434540 Eh\ng4 Energy:  0.0000000 Eh\ng5 Energy:  0.0000000 Eh\nTotal Energy:  0.1713890 Eh\n"
        }
      ],
      "execution_count": 287,
      "metadata": {
        "jupyter": {
          "source_hidden": false,
          "outputs_hidden": false
        },
        "nteract": {
          "transient": {
            "deleting": false
          }
        }
      }
    },
    {
      "cell_type": "markdown",
      "source": [
        "***5.2 500 Shots***"
      ],
      "metadata": {
        "nteract": {
          "transient": {
            "deleting": false
          }
        }
      }
    },
    {
      "cell_type": "code",
      "source": [
        "g1_qpu_500_result = g1_qpu_500.result()\n",
        "g2_qpu_500_result = g2_qpu_500.result()\n",
        "g3_qpu_500_result = g3_qpu_500.result()\n",
        "g4_qpu_500_result = g4_qpu_500.result()\n",
        "g5_qpu_500_result = g5_qpu_500.result()"
      ],
      "outputs": [],
      "execution_count": 291,
      "metadata": {
        "jupyter": {
          "source_hidden": false,
          "outputs_hidden": false
        },
        "nteract": {
          "transient": {
            "deleting": false
          }
        }
      }
    },
    {
      "cell_type": "code",
      "source": [
        "g1_qpu_500_energy = get_energy(g1_qpu_500_result,g1)\n",
        "g2_qpu_500_energy = get_energy(g2_qpu_500_result,g2)\n",
        "g3_qpu_500_energy = get_energy(g3_qpu_500_result,g3)\n",
        "g4_qpu_500_energy = get_energy(g4_qpu_500_result,g4)\n",
        "g5_qpu_500_energy = get_energy(g5_qpu_500_result,g5)"
      ],
      "outputs": [],
      "execution_count": 292,
      "metadata": {
        "jupyter": {
          "source_hidden": false,
          "outputs_hidden": false
        },
        "nteract": {
          "transient": {
            "deleting": false
          }
        }
      }
    },
    {
      "cell_type": "code",
      "source": [
        "print('g1 Energy: %10.7f Eh' % g1_qpu_500_energy)\n",
        "print('g2 Energy: %10.7f Eh' % g2_qpu_500_energy)\n",
        "print('g3 Energy: %10.7f Eh' % g3_qpu_500_energy)\n",
        "print('g4 Energy: %10.7f Eh' % g4_qpu_500_energy)\n",
        "print('g5 Energy: %10.7f Eh' % g5_qpu_500_energy)\n",
        "\n",
        "total_energy = g0 + g1_qpu_500_energy + g2_qpu_500_energy + g3_qpu_500_energy + g4_qpu_500_energy + g5_qpu_500_energy\n",
        "print('Total Energy: %10.7f Eh' % total_energy)"
      ],
      "outputs": [
        {
          "output_type": "stream",
          "name": "stdout",
          "text": "g1 Energy: -0.3487360 Eh\ng2 Energy: -1.1583000 Eh\ng3 Energy: -0.4542044 Eh\ng4 Energy: -0.0019152 Eh\ng5 Energy: -0.0041496 Eh\nTotal Energy:  0.2194948 Eh\n"
        }
      ],
      "execution_count": 293,
      "metadata": {
        "jupyter": {
          "source_hidden": false,
          "outputs_hidden": false
        },
        "nteract": {
          "transient": {
            "deleting": false
          }
        }
      }
    },
    {
      "cell_type": "markdown",
      "source": [
        "***5.3 1000 Shots***"
      ],
      "metadata": {
        "nteract": {
          "transient": {
            "deleting": false
          }
        }
      }
    },
    {
      "cell_type": "code",
      "source": [
        "g1_qpu_1000_result = g1_qpu_1000.result()\n",
        "g2_qpu_1000_result = g2_qpu_1000.result()\n",
        "g3_qpu_1000_result = g3_qpu_1000.result()\n",
        "g4_qpu_1000_result = g4_qpu_1000.result()\n",
        "g5_qpu_1000_result = g5_qpu_1000.result()"
      ],
      "outputs": [],
      "execution_count": 294,
      "metadata": {
        "jupyter": {
          "source_hidden": false,
          "outputs_hidden": false
        },
        "nteract": {
          "transient": {
            "deleting": false
          }
        }
      }
    },
    {
      "cell_type": "code",
      "source": [
        "g1_qpu_1000_energy = get_energy(g1_qpu_1000_result,g1)\n",
        "g2_qpu_1000_energy = get_energy(g2_qpu_1000_result,g2)\n",
        "g3_qpu_1000_energy = get_energy(g3_qpu_1000_result,g3)\n",
        "g4_qpu_1000_energy = get_energy(g4_qpu_1000_result,g4)\n",
        "g5_qpu_1000_energy = get_energy(g5_qpu_1000_result,g5)"
      ],
      "outputs": [],
      "execution_count": 295,
      "metadata": {
        "jupyter": {
          "source_hidden": false,
          "outputs_hidden": false
        },
        "nteract": {
          "transient": {
            "deleting": false
          }
        }
      }
    },
    {
      "cell_type": "code",
      "source": [
        "print('g1 Energy: %10.7f Eh' % g1_qpu_1000_energy)\n",
        "print('g2 Energy: %10.7f Eh' % g2_qpu_1000_energy)\n",
        "print('g3 Energy: %10.7f Eh' % g3_qpu_1000_energy)\n",
        "print('g4 Energy: %10.7f Eh' % g4_qpu_1000_energy)\n",
        "print('g5 Energy: %10.7f Eh' % g5_qpu_1000_energy)\n",
        "\n",
        "total_energy = g0 + g1_qpu_1000_energy + g2_qpu_1000_energy + g3_qpu_1000_energy + g4_qpu_1000_energy + g5_qpu_1000_energy\n",
        "print('Total Energy: %10.7f Eh' % total_energy)"
      ],
      "outputs": [
        {
          "output_type": "stream",
          "name": "stdout",
          "text": "g1 Energy: -0.3912382 Eh\ng2 Energy: -1.1866140 Eh\ng3 Energy: -0.5590208 Eh\ng4 Energy: -0.0039900 Eh\ng5 Energy: -0.0046284 Eh\nTotal Energy:  0.0413086 Eh\n"
        }
      ],
      "execution_count": 297,
      "metadata": {
        "jupyter": {
          "source_hidden": false,
          "outputs_hidden": false
        },
        "nteract": {
          "transient": {
            "deleting": false
          }
        }
      }
    },
    {
      "cell_type": "markdown",
      "source": [
        "***5.4 5000 Shots***"
      ],
      "metadata": {
        "nteract": {
          "transient": {
            "deleting": false
          }
        }
      }
    },
    {
      "cell_type": "code",
      "source": [
        "g1_qpu_5000_result = g1_qpu_5000.result()\n",
        "g2_qpu_5000_result = g2_qpu_5000.result()\n",
        "g3_qpu_5000_result = g3_qpu_5000.result()\n",
        "g4_qpu_5000_result = g4_qpu_5000.result()\n",
        "g5_qpu_5000_result = g5_qpu_5000.result()"
      ],
      "outputs": [],
      "execution_count": 298,
      "metadata": {
        "jupyter": {
          "source_hidden": false,
          "outputs_hidden": false
        },
        "nteract": {
          "transient": {
            "deleting": false
          }
        }
      }
    },
    {
      "cell_type": "code",
      "source": [
        "g1_qpu_5000_energy = get_energy(g1_qpu_5000_result,g1)\n",
        "g2_qpu_5000_energy = get_energy(g2_qpu_5000_result,g2)\n",
        "g3_qpu_5000_energy = get_energy(g3_qpu_5000_result,g3)\n",
        "g4_qpu_5000_energy = get_energy(g4_qpu_5000_result,g4)\n",
        "g5_qpu_5000_energy = get_energy(g5_qpu_5000_result,g5)"
      ],
      "outputs": [],
      "execution_count": 299,
      "metadata": {
        "jupyter": {
          "source_hidden": false,
          "outputs_hidden": false
        },
        "nteract": {
          "transient": {
            "deleting": false
          }
        }
      }
    },
    {
      "cell_type": "code",
      "source": [
        "print('g1 Energy: %10.7f Eh' % g1_qpu_5000_energy)\n",
        "print('g2 Energy: %10.7f Eh' % g2_qpu_5000_energy)\n",
        "print('g3 Energy: %10.7f Eh' % g3_qpu_5000_energy)\n",
        "print('g4 Energy: %10.7f Eh' % g4_qpu_5000_energy)\n",
        "print('g5 Energy: %10.7f Eh' % g5_qpu_5000_energy)\n",
        "\n",
        "total_energy = g0 + g1_qpu_5000_energy + g2_qpu_5000_energy + g3_qpu_5000_energy + g4_qpu_5000_energy + g5_qpu_5000_energy\n",
        "print('Total Energy: %10.7f Eh' % total_energy)"
      ],
      "outputs": [
        {
          "output_type": "stream",
          "name": "stdout",
          "text": "g1 Energy: -0.4993464 Eh\ng2 Energy: -1.2324312 Eh\ng3 Energy: -0.6407238 Eh\ng4 Energy:  0.0054264 Eh\ng5 Energy:  0.0028728 Eh\nTotal Energy: -0.1774022 Eh\n"
        }
      ],
      "execution_count": 300,
      "metadata": {
        "jupyter": {
          "source_hidden": false,
          "outputs_hidden": false
        },
        "nteract": {
          "transient": {
            "deleting": false
          }
        }
      }
    },
    {
      "cell_type": "markdown",
      "source": [
        "As we can see, using the simulators, we can roughly recover the energy of the H2 molecule. However, using QPU, we need 5000 shots to just get the sign correct, with ~50% error too, which is not good at all."
      ],
      "metadata": {
        "nteract": {
          "transient": {
            "deleting": false
          }
        }
      }
    }
  ],
  "metadata": {
    "language_info": {
      "name": "python",
      "version": "3.7.13",
      "mimetype": "text/x-python",
      "codemirror_mode": {
        "name": "ipython",
        "version": 3
      },
      "pygments_lexer": "ipython3",
      "nbconvert_exporter": "python",
      "file_extension": ".py"
    },
    "kernelspec": {
      "name": "python3",
      "language": "python",
      "display_name": "Python 3 (ipykernel)"
    },
    "kernel_info": {
      "name": "python3"
    },
    "nteract": {
      "version": "nteract-front-end@1.0.0"
    }
  },
  "nbformat": 4,
  "nbformat_minor": 0
}